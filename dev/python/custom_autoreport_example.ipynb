{
 "cells": [
  {
   "cell_type": "markdown",
   "metadata": {},
   "source": [
    "# Run an Experiment and Render an AutoReport\n",
    "\n",
    "Steps:\n",
    "\n",
    "* Connect to running DAI instance\n",
    "* Run an Experiment\n",
    "* Run Model Interpretability (MLI)\n",
    "* Render an AutoReport for the Model and MLI results"
   ]
  },
  {
   "cell_type": "code",
   "execution_count": 1,
   "metadata": {},
   "outputs": [],
   "source": [
    "# connect to running DAI instance\n",
    "from h2oai_client import Client\n",
    "ip = '54.210.93.102'\n",
    "address = 'http://' + ip + ':12345'\n",
    "username = 'h2oai'\n",
    "password = \"i-0f175a8a94040e1cc\"\n",
    "h2oai = Client(address = address, username = username, password = password)"
   ]
  },
  {
   "cell_type": "markdown",
   "metadata": {},
   "source": [
    "### Get experiments"
   ]
  },
  {
   "cell_type": "code",
   "execution_count": 2,
   "metadata": {},
   "outputs": [
    {
     "data": {
      "text/plain": [
       "['47cab020-7f4d-11ea-b1f2-0242ac110002',\n",
       " '0ee76bd6-7f43-11ea-b1f2-0242ac110002',\n",
       " '7dd29458-7edf-11ea-84c7-0242ac110002']"
      ]
     },
     "execution_count": 2,
     "metadata": {},
     "output_type": "execute_result"
    }
   ],
   "source": [
    "# Get list of experiments\n",
    "experiment_list = list(map(lambda x: x.key, h2oai.list_models(offset=0, limit=100).models))\n",
    "experiment_list"
   ]
  },
  {
   "cell_type": "code",
   "execution_count": 3,
   "metadata": {},
   "outputs": [],
   "source": [
    "# Get pointer to experiment\n",
    "experiment = h2oai.get_model_job(experiment_list[0]).entity"
   ]
  },
  {
   "cell_type": "code",
   "execution_count": 4,
   "metadata": {
    "scrolled": true
   },
   "outputs": [
    {
     "data": {
      "text/plain": [
       "['__class__',\n",
       " '__delattr__',\n",
       " '__dict__',\n",
       " '__dir__',\n",
       " '__doc__',\n",
       " '__eq__',\n",
       " '__format__',\n",
       " '__ge__',\n",
       " '__getattribute__',\n",
       " '__gt__',\n",
       " '__hash__',\n",
       " '__init__',\n",
       " '__init_subclass__',\n",
       " '__le__',\n",
       " '__lt__',\n",
       " '__module__',\n",
       " '__ne__',\n",
       " '__new__',\n",
       " '__reduce__',\n",
       " '__reduce_ex__',\n",
       " '__repr__',\n",
       " '__setattr__',\n",
       " '__sizeof__',\n",
       " '__str__',\n",
       " '__subclasshook__',\n",
       " '__weakref__',\n",
       " 'autoreport_path',\n",
       " 'clone',\n",
       " 'deprecated',\n",
       " 'description',\n",
       " 'diagnostic_keys',\n",
       " 'dump',\n",
       " 'fitted_model_path',\n",
       " 'ids_col',\n",
       " 'iteration_data',\n",
       " 'key',\n",
       " 'labels',\n",
       " 'load',\n",
       " 'log_file_path',\n",
       " 'max_iterations',\n",
       " 'model_file_size',\n",
       " 'mojo_pipeline_path',\n",
       " 'parameters',\n",
       " 'patched_pred_contribs',\n",
       " 'pickle_path',\n",
       " 'score',\n",
       " 'score_f_name',\n",
       " 'scoring_pipeline_path',\n",
       " 'summary_path',\n",
       " 'test_act_vs_pred',\n",
       " 'test_gains',\n",
       " 'test_predictions_path',\n",
       " 'test_residual_plot',\n",
       " 'test_roc',\n",
       " 'test_score',\n",
       " 'test_score_sd',\n",
       " 'trace_events',\n",
       " 'train_predictions_path',\n",
       " 'training_duration',\n",
       " 'unfitted_pipeline_path',\n",
       " 'valid_act_vs_pred',\n",
       " 'valid_gains',\n",
       " 'valid_predictions_path',\n",
       " 'valid_residual_plot',\n",
       " 'valid_roc',\n",
       " 'valid_score',\n",
       " 'valid_score_sd',\n",
       " 'warnings']"
      ]
     },
     "execution_count": 4,
     "metadata": {},
     "output_type": "execute_result"
    }
   ],
   "source": [
    "dir(experiment)"
   ]
  },
  {
   "cell_type": "code",
   "execution_count": 5,
   "metadata": {},
   "outputs": [
    {
     "data": {
      "text/plain": [
       "'h2oai_experiment_47cab020-7f4d-11ea-b1f2-0242ac110002/report_388a7_tmp/report.docx'"
      ]
     },
     "execution_count": 5,
     "metadata": {},
     "output_type": "execute_result"
    }
   ],
   "source": [
    "experiment.autoreport_path"
   ]
  },
  {
   "cell_type": "code",
   "execution_count": 6,
   "metadata": {},
   "outputs": [
    {
     "data": {
      "text/plain": [
       "'dewihone'"
      ]
     },
     "execution_count": 6,
     "metadata": {},
     "output_type": "execute_result"
    }
   ],
   "source": [
    "experiment.description"
   ]
  },
  {
   "cell_type": "code",
   "execution_count": 7,
   "metadata": {},
   "outputs": [
    {
     "data": {
      "text/plain": [
       "[]"
      ]
     },
     "execution_count": 7,
     "metadata": {},
     "output_type": "execute_result"
    }
   ],
   "source": [
    "experiment.diagnostic_keys"
   ]
  },
  {
   "cell_type": "code",
   "execution_count": 8,
   "metadata": {},
   "outputs": [
    {
     "data": {
      "text/plain": [
       "'h2oai_experiment_47cab020-7f4d-11ea-b1f2-0242ac110002/fitted_model.pickle'"
      ]
     },
     "execution_count": 8,
     "metadata": {},
     "output_type": "execute_result"
    }
   ],
   "source": [
    "experiment.fitted_model_path"
   ]
  },
  {
   "cell_type": "code",
   "execution_count": 9,
   "metadata": {},
   "outputs": [
    {
     "data": {
      "text/plain": [
       "'47cab020-7f4d-11ea-b1f2-0242ac110002'"
      ]
     },
     "execution_count": 9,
     "metadata": {},
     "output_type": "execute_result"
    }
   ],
   "source": [
    "experiment.key"
   ]
  },
  {
   "cell_type": "code",
   "execution_count": 10,
   "metadata": {},
   "outputs": [
    {
     "data": {
      "text/plain": [
       "[0, 1]"
      ]
     },
     "execution_count": 10,
     "metadata": {},
     "output_type": "execute_result"
    }
   ],
   "source": [
    "experiment.labels"
   ]
  },
  {
   "cell_type": "code",
   "execution_count": 11,
   "metadata": {},
   "outputs": [
    {
     "data": {
      "text/plain": [
       "[]"
      ]
     },
     "execution_count": 11,
     "metadata": {},
     "output_type": "execute_result"
    }
   ],
   "source": [
    "experiment.diagnostic_keys"
   ]
  },
  {
   "cell_type": "code",
   "execution_count": 12,
   "metadata": {},
   "outputs": [
    {
     "data": {
      "text/plain": [
       "[]"
      ]
     },
     "execution_count": 12,
     "metadata": {},
     "output_type": "execute_result"
    }
   ],
   "source": [
    "experiment.diagnostic_keys"
   ]
  },
  {
   "cell_type": "code",
   "execution_count": 13,
   "metadata": {
    "scrolled": true
   },
   "outputs": [
    {
     "data": {
      "text/plain": [
       "['__class__',\n",
       " '__delattr__',\n",
       " '__dict__',\n",
       " '__dir__',\n",
       " '__doc__',\n",
       " '__eq__',\n",
       " '__format__',\n",
       " '__ge__',\n",
       " '__getattribute__',\n",
       " '__gt__',\n",
       " '__hash__',\n",
       " '__init__',\n",
       " '__init_subclass__',\n",
       " '__le__',\n",
       " '__lt__',\n",
       " '__module__',\n",
       " '__ne__',\n",
       " '__new__',\n",
       " '__reduce__',\n",
       " '__reduce_ex__',\n",
       " '__repr__',\n",
       " '__setattr__',\n",
       " '__sizeof__',\n",
       " '__str__',\n",
       " '__subclasshook__',\n",
       " '__weakref__',\n",
       " 'accuracy',\n",
       " 'clone',\n",
       " 'cols_imputation',\n",
       " 'cols_to_drop',\n",
       " 'config_overrides',\n",
       " 'dataset',\n",
       " 'dump',\n",
       " 'enable_gpus',\n",
       " 'fold_col',\n",
       " 'interpretability',\n",
       " 'is_classification',\n",
       " 'is_timeseries',\n",
       " 'load',\n",
       " 'num_gap_periods',\n",
       " 'num_prediction_periods',\n",
       " 'orig_time_col',\n",
       " 'resumed_model',\n",
       " 'score_f_name',\n",
       " 'seed',\n",
       " 'target_col',\n",
       " 'testset',\n",
       " 'time',\n",
       " 'time_col',\n",
       " 'time_groups_columns',\n",
       " 'time_period_in_seconds',\n",
       " 'unavailable_columns_at_prediction_time',\n",
       " 'validset',\n",
       " 'weight_col']"
      ]
     },
     "execution_count": 13,
     "metadata": {},
     "output_type": "execute_result"
    }
   ],
   "source": [
    "dir(experiment.parameters)"
   ]
  },
  {
   "cell_type": "code",
   "execution_count": 14,
   "metadata": {},
   "outputs": [],
   "source": [
    "train = experiment.parameters.dataset"
   ]
  },
  {
   "cell_type": "code",
   "execution_count": 15,
   "metadata": {},
   "outputs": [],
   "source": [
    "test = experiment.parameters.testset"
   ]
  },
  {
   "cell_type": "code",
   "execution_count": 16,
   "metadata": {},
   "outputs": [],
   "source": [
    "target = experiment.parameters.target_col"
   ]
  },
  {
   "cell_type": "markdown",
   "metadata": {},
   "source": [
    "### Experiment Configurations"
   ]
  },
  {
   "cell_type": "code",
   "execution_count": 17,
   "metadata": {},
   "outputs": [
    {
     "data": {
      "text/plain": [
       "''"
      ]
     },
     "execution_count": 17,
     "metadata": {},
     "output_type": "execute_result"
    }
   ],
   "source": [
    "test.key"
   ]
  },
  {
   "cell_type": "code",
   "execution_count": 18,
   "metadata": {},
   "outputs": [
    {
     "data": {
      "text/plain": [
       "['__class__',\n",
       " '__delattr__',\n",
       " '__dict__',\n",
       " '__dir__',\n",
       " '__doc__',\n",
       " '__eq__',\n",
       " '__format__',\n",
       " '__ge__',\n",
       " '__getattribute__',\n",
       " '__gt__',\n",
       " '__hash__',\n",
       " '__init__',\n",
       " '__init_subclass__',\n",
       " '__le__',\n",
       " '__lt__',\n",
       " '__module__',\n",
       " '__ne__',\n",
       " '__new__',\n",
       " '__reduce__',\n",
       " '__reduce_ex__',\n",
       " '__repr__',\n",
       " '__setattr__',\n",
       " '__sizeof__',\n",
       " '__str__',\n",
       " '__subclasshook__',\n",
       " '__weakref__',\n",
       " '_autoviz',\n",
       " '_cid',\n",
       " '_format_server_error',\n",
       " '_perform_recipe_upload',\n",
       " '_request',\n",
       " '_session',\n",
       " '_wait_for_autoreport',\n",
       " '_wait_for_create_deployment',\n",
       " '_wait_for_custom_recipes_acceptance_tests',\n",
       " '_wait_for_dataset',\n",
       " '_wait_for_dataset_split',\n",
       " '_wait_for_destroy_deployment',\n",
       " '_wait_for_entity_job',\n",
       " '_wait_for_interpret_timeseries',\n",
       " '_wait_for_interpretation',\n",
       " '_wait_for_model',\n",
       " '_wait_for_model_diagnostic',\n",
       " '_wait_for_mojo_pipeline',\n",
       " '_wait_for_prediction',\n",
       " '_wait_for_preview',\n",
       " '_wait_for_recipe_load',\n",
       " '_wait_for_scoring_pipeline',\n",
       " '_wait_for_transformation',\n",
       " 'abort_autoreport',\n",
       " 'abort_custom_recipe_job',\n",
       " 'abort_experiment',\n",
       " 'abort_interpretation',\n",
       " 'address',\n",
       " 'autoviz',\n",
       " 'build_mojo_pipeline',\n",
       " 'build_mojo_pipeline_sync',\n",
       " 'build_scoring_pipeline',\n",
       " 'build_scoring_pipeline_sync',\n",
       " 'change_sa_ws',\n",
       " 'check_rest_scorer_deployment_health',\n",
       " 'clear_sa_history',\n",
       " 'copy_azr_blob_store_to_local',\n",
       " 'copy_dtap_to_local',\n",
       " 'copy_gcs_to_local',\n",
       " 'copy_hdfs_to_local',\n",
       " 'copy_minio_to_local',\n",
       " 'copy_s3_to_local',\n",
       " 'create_and_download_autoreport',\n",
       " 'create_aws_lambda',\n",
       " 'create_bigquery_query',\n",
       " 'create_csv_from_dataset',\n",
       " 'create_custom_recipe_from_url',\n",
       " 'create_dataset',\n",
       " 'create_dataset_from_azr_blob',\n",
       " 'create_dataset_from_azure_blob_store_sync',\n",
       " 'create_dataset_from_bigquery_sync',\n",
       " 'create_dataset_from_dtap',\n",
       " 'create_dataset_from_dtap_sync',\n",
       " 'create_dataset_from_file',\n",
       " 'create_dataset_from_gbq',\n",
       " 'create_dataset_from_gcs',\n",
       " 'create_dataset_from_gcs_sync',\n",
       " 'create_dataset_from_hadoop',\n",
       " 'create_dataset_from_hadoop_sync',\n",
       " 'create_dataset_from_jdbc_sync',\n",
       " 'create_dataset_from_kdb',\n",
       " 'create_dataset_from_kdb_sync',\n",
       " 'create_dataset_from_minio',\n",
       " 'create_dataset_from_minio_sync',\n",
       " 'create_dataset_from_recipe',\n",
       " 'create_dataset_from_s3',\n",
       " 'create_dataset_from_s3_sync',\n",
       " 'create_dataset_from_snow',\n",
       " 'create_dataset_from_snowflake_sync',\n",
       " 'create_dataset_from_spark_jdbc',\n",
       " 'create_dataset_from_upload',\n",
       " 'create_dataset_sync',\n",
       " 'create_entity_permission',\n",
       " 'create_kdb_query',\n",
       " 'create_local_rest_scorer',\n",
       " 'create_local_rest_scorer_sync',\n",
       " 'create_project',\n",
       " 'create_sa',\n",
       " 'create_snowflake_query',\n",
       " 'create_spark_jdbc_query',\n",
       " 'delete_autoviz_job',\n",
       " 'delete_dataset',\n",
       " 'delete_entity_permission',\n",
       " 'delete_interpretation',\n",
       " 'delete_model',\n",
       " 'delete_model_diagnostic_job',\n",
       " 'delete_project',\n",
       " 'delete_storage_dataset',\n",
       " 'delete_storage_model',\n",
       " 'destroy_aws_lambda',\n",
       " 'destroy_local_rest_scorer',\n",
       " 'destroy_local_rest_scorer_sync',\n",
       " 'do_tornado_upload',\n",
       " 'download',\n",
       " 'download_prediction',\n",
       " 'download_prediction_sync',\n",
       " 'drop_local_rest_scorer_from_database',\n",
       " 'export_dataset_to_storage',\n",
       " 'export_model_to_storage',\n",
       " 'filter_sa_ws',\n",
       " 'fit_transform_batch',\n",
       " 'fit_transform_batch_sync',\n",
       " 'generate_local_rest_scorer_sample_data',\n",
       " 'get_1d_vega_plot',\n",
       " 'get_2d_vega_plot',\n",
       " 'get_all_config_options',\n",
       " 'get_all_dia_parity_ui',\n",
       " 'get_app_version',\n",
       " 'get_artifact_upload_job',\n",
       " 'get_autoreport_job',\n",
       " 'get_autoviz',\n",
       " 'get_autoviz_job',\n",
       " 'get_autoviz_summary',\n",
       " 'get_barchart',\n",
       " 'get_barchart_job',\n",
       " 'get_boxplot',\n",
       " 'get_boxplot_job',\n",
       " 'get_column_stat',\n",
       " 'get_config_options',\n",
       " 'get_configurable_options',\n",
       " 'get_create_csv_job',\n",
       " 'get_create_deployment_job',\n",
       " 'get_current_user_info',\n",
       " 'get_custom_recipe_job',\n",
       " 'get_custom_recipes_acceptance_jobs',\n",
       " 'get_dai_feat_imp_status',\n",
       " 'get_data_preview_job',\n",
       " 'get_data_recipe_preview',\n",
       " 'get_dataset_job',\n",
       " 'get_dataset_split_job',\n",
       " 'get_dataset_summary',\n",
       " 'get_datasets_for_project',\n",
       " 'get_deployment',\n",
       " 'get_destroy_deployment_job',\n",
       " 'get_dia',\n",
       " 'get_dia_avp',\n",
       " 'get_dia_parity_ui',\n",
       " 'get_dia_status',\n",
       " 'get_dia_summary',\n",
       " 'get_diagnostic_cm_for_threshold',\n",
       " 'get_disk_stats',\n",
       " 'get_dotplot',\n",
       " 'get_dotplot_job',\n",
       " 'get_exemplar_rows',\n",
       " 'get_experiment_preview',\n",
       " 'get_experiment_preview_job',\n",
       " 'get_experiment_preview_sync',\n",
       " 'get_experiment_summary_for_mli_key',\n",
       " 'get_experiment_tuning_suggestion',\n",
       " 'get_experiments_for_project',\n",
       " 'get_experiments_stats',\n",
       " 'get_export_entity_job',\n",
       " 'get_frame_row_by_value',\n",
       " 'get_frame_row_offset_by_value',\n",
       " 'get_frame_rows',\n",
       " 'get_gpu_stats',\n",
       " 'get_grouped_boxplot',\n",
       " 'get_grouped_boxplot_job',\n",
       " 'get_heatmap',\n",
       " 'get_heatmap_job',\n",
       " 'get_histogram',\n",
       " 'get_histogram_job',\n",
       " 'get_import_entity_job',\n",
       " 'get_importmodel_job',\n",
       " 'get_individual_conditional_expectation',\n",
       " 'get_interpret_timeseries_job',\n",
       " 'get_interpret_timeseries_summary',\n",
       " 'get_interpretation_job',\n",
       " 'get_interpretation_summary',\n",
       " 'get_iteration_data',\n",
       " 'get_jdbc_config',\n",
       " 'get_json',\n",
       " 'get_mli_importance',\n",
       " 'get_mli_nlp_status',\n",
       " 'get_mli_nlp_tokens_status',\n",
       " 'get_mli_variable_importance',\n",
       " 'get_model_diagnostic',\n",
       " 'get_model_diagnostic_job',\n",
       " 'get_model_job',\n",
       " 'get_model_job_partial',\n",
       " 'get_model_summary',\n",
       " 'get_model_summary_with_diagnostics',\n",
       " 'get_model_trace',\n",
       " 'get_mojo_pipeline_job',\n",
       " 'get_multinode_stats',\n",
       " 'get_network',\n",
       " 'get_network_job',\n",
       " 'get_original_mli_frame_rows',\n",
       " 'get_original_model_ice',\n",
       " 'get_outliers',\n",
       " 'get_outliers_job',\n",
       " 'get_parallel_coordinates_plot',\n",
       " 'get_parallel_coordinates_plot_job',\n",
       " 'get_prediction_job',\n",
       " 'get_project',\n",
       " 'get_raw_data',\n",
       " 'get_sa',\n",
       " 'get_sa_create_progress',\n",
       " 'get_sa_dataset_summary',\n",
       " 'get_sa_history',\n",
       " 'get_sa_history_entry',\n",
       " 'get_sa_main_chart_data',\n",
       " 'get_sa_predictions',\n",
       " 'get_sa_preds_history_chart_data',\n",
       " 'get_sa_score_progress',\n",
       " 'get_sa_statistics',\n",
       " 'get_sa_ws',\n",
       " 'get_sa_ws_summary',\n",
       " 'get_sa_ws_summary_for_column',\n",
       " 'get_sa_ws_summary_for_row',\n",
       " 'get_sa_ws_summary_row',\n",
       " 'get_sas_for_mli',\n",
       " 'get_scale',\n",
       " 'get_scatterplot',\n",
       " 'get_scatterplot_job',\n",
       " 'get_scoring_pipeline_job',\n",
       " 'get_timeseries_split_suggestion',\n",
       " 'get_timeseries_split_suggestion_job',\n",
       " 'get_transformation_job',\n",
       " 'get_users',\n",
       " 'get_variable_importance',\n",
       " 'get_vega_plot',\n",
       " 'get_vega_plot_job',\n",
       " 'get_vis_stats',\n",
       " 'get_vis_stats_job',\n",
       " 'have_valid_license',\n",
       " 'import_model',\n",
       " 'import_storage_dataset',\n",
       " 'import_storage_model',\n",
       " 'is_autoreport_active',\n",
       " 'is_original_model_pd_available',\n",
       " 'is_original_shapley_available',\n",
       " 'is_sa_enabled',\n",
       " 'is_valid_license_key',\n",
       " 'link_dataset_to_project',\n",
       " 'link_experiment_to_project',\n",
       " 'list_allowed_file_systems',\n",
       " 'list_aws_regions',\n",
       " 'list_azr_blob_store_buckets',\n",
       " 'list_datasets',\n",
       " 'list_datasets_with_similar_name',\n",
       " 'list_deployments',\n",
       " 'list_entity_permissions',\n",
       " 'list_experiment_artifacts',\n",
       " 'list_gcs_buckets',\n",
       " 'list_interpret_timeseries',\n",
       " 'list_interpretations',\n",
       " 'list_keys_by_name',\n",
       " 'list_minio_buckets',\n",
       " 'list_model_diagnostic',\n",
       " 'list_model_estimators',\n",
       " 'list_model_iteration_data',\n",
       " 'list_models',\n",
       " 'list_models_with_similar_name',\n",
       " 'list_projects',\n",
       " 'list_s3_buckets',\n",
       " 'list_scorers',\n",
       " 'list_storage_datasets',\n",
       " 'list_storage_models',\n",
       " 'list_storage_projects',\n",
       " 'list_storage_users',\n",
       " 'list_transformers',\n",
       " 'list_visualizations',\n",
       " 'make_autoreport',\n",
       " 'make_autoreport_sync',\n",
       " 'make_dataset_split',\n",
       " 'make_dataset_split_sync',\n",
       " 'make_model_diagnostic_sync',\n",
       " 'make_prediction',\n",
       " 'make_prediction_sync',\n",
       " 'modify_dataset_by_recipe_file',\n",
       " 'modify_dataset_by_recipe_url',\n",
       " 'perform_chunked_upload',\n",
       " 'perform_stream_upload',\n",
       " 'perform_upload',\n",
       " 'pop_sa_history',\n",
       " 'query_datatable',\n",
       " 'remove_sa_history_entry',\n",
       " 'reset_sa_ws',\n",
       " 'run_custom_recipes_acceptance_checks',\n",
       " 'run_interpret_timeseries',\n",
       " 'run_interpret_timeseries_sync',\n",
       " 'run_interpretation',\n",
       " 'run_interpretation_sync',\n",
       " 'save_license_key',\n",
       " 'score_sa',\n",
       " 'search_azr_blob_store_files',\n",
       " 'search_dtap_files',\n",
       " 'search_files',\n",
       " 'search_gcs_files',\n",
       " 'search_hdfs_files',\n",
       " 'search_minio_files',\n",
       " 'search_s3_files',\n",
       " 'set_config_option',\n",
       " 'set_config_option_dummy',\n",
       " 'start_echo',\n",
       " 'start_experiment',\n",
       " 'start_experiment_sync',\n",
       " 'stop_echo',\n",
       " 'stop_experiment',\n",
       " 'tornado_raw_producer',\n",
       " 'track_subsystem_event',\n",
       " 'type_of_mli',\n",
       " 'unlink_dataset_from_project',\n",
       " 'unlink_experiment_from_project',\n",
       " 'update_dataset_col_format',\n",
       " 'update_dataset_col_logical_types',\n",
       " 'update_dataset_name',\n",
       " 'update_mli_description',\n",
       " 'update_model_description',\n",
       " 'update_project_name',\n",
       " 'upload_custom_recipe_sync',\n",
       " 'upload_dataset',\n",
       " 'upload_dataset_sync',\n",
       " 'upload_experiment_artifacts',\n",
       " 'upload_file_sync']"
      ]
     },
     "execution_count": 18,
     "metadata": {},
     "output_type": "execute_result"
    }
   ],
   "source": [
    "dir(h2oai)"
   ]
  },
  {
   "cell_type": "code",
   "execution_count": 19,
   "metadata": {},
   "outputs": [],
   "source": [
    "## Get list of MLI\n",
    "#the_mli = h2oai.list_interpretations(offset=0, limit=100)[0]"
   ]
  },
  {
   "cell_type": "code",
   "execution_count": 20,
   "metadata": {},
   "outputs": [],
   "source": [
    "#h2oai.get_mli_importance(the_mli)"
   ]
  },
  {
   "cell_type": "code",
   "execution_count": 21,
   "metadata": {},
   "outputs": [],
   "source": [
    "# run the model interpretability on the resulting model\n",
    "mli_experiment = h2oai.run_interpretation_sync(\n",
    "    dai_model_key = experiment.key,\n",
    "    dataset_key = train.key,\n",
    "    target_col = target,\n",
    "    use_raw_feature = True\n",
    ")"
   ]
  },
  {
   "cell_type": "markdown",
   "metadata": {},
   "source": [
    "### Create The AutoReport\n",
    "\n",
    "To successfully build the AutoReport, the custom template should already be located within the DAI `h2oai/h2oai_autoreport/templates` directory and the following must be set:\n",
    "\n",
    "* The configuration override for the AutoReport location \n",
    "\n",
    "\n",
    "* The experiment key and mli key"
   ]
  },
  {
   "cell_type": "markdown",
   "metadata": {},
   "source": [
    "Specify the experiment and mli key, for which you would like the AutoReport generated."
   ]
  },
  {
   "cell_type": "code",
   "execution_count": 22,
   "metadata": {},
   "outputs": [],
   "source": [
    "model_key = experiment.key\n",
    "mli_key = mli_experiment.key"
   ]
  },
  {
   "cell_type": "markdown",
   "metadata": {},
   "source": [
    "Build the AutoReport and specify ICE rows via `individual_rows` parameter."
   ]
  },
  {
   "cell_type": "code",
   "execution_count": 25,
   "metadata": {},
   "outputs": [],
   "source": [
    "#config_overrides = \"autodoc_output_type='md'\"\n",
    "#config_overrides = \"autodoc_template_path='/Users/dwhiting/github/davidwhiting/certification_test/'\"\n",
    "#config_overrides = \"autodoc_template='report_template.md'\"\n",
    "#config_overrides += \"\\nautodoc_report_name='certification_test_report'\"\n",
    "\n",
    "# print(\"The Configuration Overrides: \")\n",
    "#print(config_overrides)"
   ]
  },
  {
   "cell_type": "code",
   "execution_count": 30,
   "metadata": {},
   "outputs": [
    {
     "ename": "RuntimeError",
     "evalue": "Driverless AI Server reported an error: Package not found at '/opt/h2oai/dai/tmp/uploads/markdown_template.md'",
     "output_type": "error",
     "traceback": [
      "\u001b[0;31m---------------------------------------------------------------------------\u001b[0m",
      "\u001b[0;31mRuntimeError\u001b[0m                              Traceback (most recent call last)",
      "\u001b[0;32m<ipython-input-30-028c757e2c01>\u001b[0m in \u001b[0;36m<module>\u001b[0;34m\u001b[0m\n\u001b[1;32m      3\u001b[0m     \u001b[0mmli_key\u001b[0m \u001b[0;34m=\u001b[0m \u001b[0mmli_key\u001b[0m\u001b[0;34m,\u001b[0m\u001b[0;34m\u001b[0m\u001b[0;34m\u001b[0m\u001b[0m\n\u001b[1;32m      4\u001b[0m     \u001b[0mdest_dir\u001b[0m \u001b[0;34m=\u001b[0m \u001b[0;34m'/Users/dwhiting/github/davidwhiting/certification_test/'\u001b[0m\u001b[0;34m,\u001b[0m\u001b[0;34m\u001b[0m\u001b[0;34m\u001b[0m\u001b[0m\n\u001b[0;32m----> 5\u001b[0;31m     \u001b[0mtemplate_path\u001b[0m \u001b[0;34m=\u001b[0m \u001b[0;34m'/Users/dwhiting/github/davidwhiting/certification_test/markdown_template.md'\u001b[0m\u001b[0;34m\u001b[0m\u001b[0;34m\u001b[0m\u001b[0m\n\u001b[0m\u001b[1;32m      6\u001b[0m )\n",
      "\u001b[0;32m/usr/local/anaconda3/lib/python3.7/site-packages/h2oai_client/protocol.py\u001b[0m in \u001b[0;36mcreate_and_download_autoreport\u001b[0;34m(self, model_key, template_path, config_overrides, dest_dir, **kwargs)\u001b[0m\n\u001b[1;32m    333\u001b[0m         \u001b[0;31m# Create autoreport\u001b[0m\u001b[0;34m\u001b[0m\u001b[0;34m\u001b[0m\u001b[0;34m\u001b[0m\u001b[0m\n\u001b[1;32m    334\u001b[0m         autoreport = self.make_autoreport_sync(model_key, template_path,\n\u001b[0;32m--> 335\u001b[0;31m                                                config_overrides, **kwargs)\n\u001b[0m\u001b[1;32m    336\u001b[0m \u001b[0;34m\u001b[0m\u001b[0m\n\u001b[1;32m    337\u001b[0m         \u001b[0;31m# Download autoreport to dest_dir\u001b[0m\u001b[0;34m\u001b[0m\u001b[0;34m\u001b[0m\u001b[0;34m\u001b[0m\u001b[0m\n",
      "\u001b[0;32m/usr/local/anaconda3/lib/python3.7/site-packages/h2oai_client/protocol.py\u001b[0m in \u001b[0;36mmake_autoreport_sync\u001b[0;34m(self, model_key, template_path, config_overrides, **kwargs)\u001b[0m\n\u001b[1;32m    294\u001b[0m                                    \u001b[0mkwargs\u001b[0m\u001b[0;34m.\u001b[0m\u001b[0mget\u001b[0m\u001b[0;34m(\u001b[0m\u001b[0;34m'external_dataset_keys'\u001b[0m\u001b[0;34m,\u001b[0m \u001b[0;34m[\u001b[0m\u001b[0;34m]\u001b[0m\u001b[0;34m)\u001b[0m\u001b[0;34m,\u001b[0m\u001b[0;34m\u001b[0m\u001b[0;34m\u001b[0m\u001b[0m\n\u001b[1;32m    295\u001b[0m                                    config_overrides)\n\u001b[0;32m--> 296\u001b[0;31m         \u001b[0mjob\u001b[0m \u001b[0;34m=\u001b[0m \u001b[0mself\u001b[0m\u001b[0;34m.\u001b[0m\u001b[0m_wait_for_autoreport\u001b[0m\u001b[0;34m(\u001b[0m\u001b[0mkey\u001b[0m\u001b[0;34m)\u001b[0m\u001b[0;34m\u001b[0m\u001b[0;34m\u001b[0m\u001b[0m\n\u001b[0m\u001b[1;32m    297\u001b[0m         \u001b[0;32mreturn\u001b[0m \u001b[0mjob\u001b[0m\u001b[0;34m.\u001b[0m\u001b[0mentity\u001b[0m\u001b[0;34m\u001b[0m\u001b[0;34m\u001b[0m\u001b[0m\n\u001b[1;32m    298\u001b[0m \u001b[0;34m\u001b[0m\u001b[0m\n",
      "\u001b[0;32m/usr/local/anaconda3/lib/python3.7/site-packages/h2oai_client/protocol.py\u001b[0m in \u001b[0;36m_wait_for_autoreport\u001b[0;34m(self, key)\u001b[0m\n\u001b[1;32m    869\u001b[0m \u001b[0;34m\u001b[0m\u001b[0m\n\u001b[1;32m    870\u001b[0m     \u001b[0;32mdef\u001b[0m \u001b[0m_wait_for_autoreport\u001b[0m\u001b[0;34m(\u001b[0m\u001b[0mself\u001b[0m\u001b[0;34m,\u001b[0m \u001b[0mkey\u001b[0m\u001b[0;34m)\u001b[0m\u001b[0;34m:\u001b[0m\u001b[0;34m\u001b[0m\u001b[0;34m\u001b[0m\u001b[0m\n\u001b[0;32m--> 871\u001b[0;31m         \u001b[0;32mreturn\u001b[0m \u001b[0mself\u001b[0m\u001b[0;34m.\u001b[0m\u001b[0m_wait_for_entity_job\u001b[0m\u001b[0;34m(\u001b[0m\u001b[0;32mlambda\u001b[0m \u001b[0;34m:\u001b[0m \u001b[0mself\u001b[0m\u001b[0;34m.\u001b[0m\u001b[0mget_autoreport_job\u001b[0m\u001b[0;34m(\u001b[0m\u001b[0mkey\u001b[0m\u001b[0;34m)\u001b[0m\u001b[0;34m)\u001b[0m\u001b[0;34m\u001b[0m\u001b[0;34m\u001b[0m\u001b[0m\n\u001b[0m\u001b[1;32m    872\u001b[0m \u001b[0;34m\u001b[0m\u001b[0m\n\u001b[1;32m    873\u001b[0m     \u001b[0;32mdef\u001b[0m \u001b[0m_wait_for_transformation\u001b[0m\u001b[0;34m(\u001b[0m\u001b[0mself\u001b[0m\u001b[0;34m,\u001b[0m \u001b[0mkey\u001b[0m\u001b[0;34m)\u001b[0m\u001b[0;34m:\u001b[0m\u001b[0;34m\u001b[0m\u001b[0;34m\u001b[0m\u001b[0m\n",
      "\u001b[0;32m/usr/local/anaconda3/lib/python3.7/site-packages/h2oai_client/protocol.py\u001b[0m in \u001b[0;36m_wait_for_entity_job\u001b[0;34m(self, job_getter)\u001b[0m\n\u001b[1;32m    856\u001b[0m             \u001b[0;32mif\u001b[0m \u001b[0mjob\u001b[0m\u001b[0;34m.\u001b[0m\u001b[0mstatus\u001b[0m \u001b[0;34m>=\u001b[0m \u001b[0;36m0\u001b[0m\u001b[0;34m:\u001b[0m  \u001b[0;31m# done\u001b[0m\u001b[0;34m\u001b[0m\u001b[0;34m\u001b[0m\u001b[0m\n\u001b[1;32m    857\u001b[0m                 \u001b[0;32mif\u001b[0m \u001b[0mjob\u001b[0m\u001b[0;34m.\u001b[0m\u001b[0mstatus\u001b[0m \u001b[0;34m>\u001b[0m \u001b[0;36m0\u001b[0m\u001b[0;34m:\u001b[0m  \u001b[0;31m# canceled or failed\u001b[0m\u001b[0;34m\u001b[0m\u001b[0;34m\u001b[0m\u001b[0m\n\u001b[0;32m--> 858\u001b[0;31m                     \u001b[0;32mraise\u001b[0m \u001b[0mRuntimeError\u001b[0m\u001b[0;34m(\u001b[0m\u001b[0mself\u001b[0m\u001b[0;34m.\u001b[0m\u001b[0m_format_server_error\u001b[0m\u001b[0;34m(\u001b[0m\u001b[0mjob\u001b[0m\u001b[0;34m.\u001b[0m\u001b[0merror\u001b[0m\u001b[0;34m)\u001b[0m\u001b[0;34m)\u001b[0m\u001b[0;34m\u001b[0m\u001b[0;34m\u001b[0m\u001b[0m\n\u001b[0m\u001b[1;32m    859\u001b[0m                 \u001b[0;32mreturn\u001b[0m \u001b[0mjob\u001b[0m\u001b[0;34m\u001b[0m\u001b[0;34m\u001b[0m\u001b[0m\n\u001b[1;32m    860\u001b[0m \u001b[0;34m\u001b[0m\u001b[0m\n",
      "\u001b[0;31mRuntimeError\u001b[0m: Driverless AI Server reported an error: Package not found at '/opt/h2oai/dai/tmp/uploads/markdown_template.md'"
     ]
    }
   ],
   "source": [
    "report = h2oai.create_and_download_autoreport(\n",
    "    model_key = model_key,\n",
    "    mli_key = mli_key,\n",
    "    dest_dir = '/Users/dwhiting/github/davidwhiting/certification_test/',\n",
    "    template_path = '/Users/dwhiting/github/davidwhiting/certification_test/markdown_template.md'\n",
    ")"
   ]
  },
  {
   "cell_type": "code",
   "execution_count": 29,
   "metadata": {},
   "outputs": [
    {
     "ename": "RuntimeError",
     "evalue": "Driverless AI Server reported an error: Package not found at '/opt/h2oai/dai/tmp/uploads/markdown_template1.md'",
     "output_type": "error",
     "traceback": [
      "\u001b[0;31m---------------------------------------------------------------------------\u001b[0m",
      "\u001b[0;31mRuntimeError\u001b[0m                              Traceback (most recent call last)",
      "\u001b[0;32m<ipython-input-29-dacce56f7c63>\u001b[0m in \u001b[0;36m<module>\u001b[0;34m\u001b[0m\n\u001b[1;32m      5\u001b[0m \u001b[0;31m#    report_name = 'certification_test_report',\u001b[0m\u001b[0;34m\u001b[0m\u001b[0;34m\u001b[0m\u001b[0;34m\u001b[0m\u001b[0m\n\u001b[1;32m      6\u001b[0m     \u001b[0mdest_dir\u001b[0m \u001b[0;34m=\u001b[0m \u001b[0;34m'/Users/dwhiting/github/davidwhiting/certification_test/'\u001b[0m\u001b[0;34m,\u001b[0m\u001b[0;34m\u001b[0m\u001b[0;34m\u001b[0m\u001b[0m\n\u001b[0;32m----> 7\u001b[0;31m     \u001b[0mtemplate_path\u001b[0m \u001b[0;34m=\u001b[0m \u001b[0;34m'/Users/dwhiting/github/davidwhiting/certification_test/markdown_template.md'\u001b[0m\u001b[0;34m\u001b[0m\u001b[0;34m\u001b[0m\u001b[0m\n\u001b[0m\u001b[1;32m      8\u001b[0m \u001b[0;31m#    config_overrides=config_overrides\u001b[0m\u001b[0;34m\u001b[0m\u001b[0;34m\u001b[0m\u001b[0;34m\u001b[0m\u001b[0m\n\u001b[1;32m      9\u001b[0m \u001b[0;31m#    ,\u001b[0m\u001b[0;34m\u001b[0m\u001b[0;34m\u001b[0m\u001b[0;34m\u001b[0m\u001b[0m\n",
      "\u001b[0;32m/usr/local/anaconda3/lib/python3.7/site-packages/h2oai_client/protocol.py\u001b[0m in \u001b[0;36mcreate_and_download_autoreport\u001b[0;34m(self, model_key, template_path, config_overrides, dest_dir, **kwargs)\u001b[0m\n\u001b[1;32m    333\u001b[0m         \u001b[0;31m# Create autoreport\u001b[0m\u001b[0;34m\u001b[0m\u001b[0;34m\u001b[0m\u001b[0;34m\u001b[0m\u001b[0m\n\u001b[1;32m    334\u001b[0m         autoreport = self.make_autoreport_sync(model_key, template_path,\n\u001b[0;32m--> 335\u001b[0;31m                                                config_overrides, **kwargs)\n\u001b[0m\u001b[1;32m    336\u001b[0m \u001b[0;34m\u001b[0m\u001b[0m\n\u001b[1;32m    337\u001b[0m         \u001b[0;31m# Download autoreport to dest_dir\u001b[0m\u001b[0;34m\u001b[0m\u001b[0;34m\u001b[0m\u001b[0;34m\u001b[0m\u001b[0m\n",
      "\u001b[0;32m/usr/local/anaconda3/lib/python3.7/site-packages/h2oai_client/protocol.py\u001b[0m in \u001b[0;36mmake_autoreport_sync\u001b[0;34m(self, model_key, template_path, config_overrides, **kwargs)\u001b[0m\n\u001b[1;32m    294\u001b[0m                                    \u001b[0mkwargs\u001b[0m\u001b[0;34m.\u001b[0m\u001b[0mget\u001b[0m\u001b[0;34m(\u001b[0m\u001b[0;34m'external_dataset_keys'\u001b[0m\u001b[0;34m,\u001b[0m \u001b[0;34m[\u001b[0m\u001b[0;34m]\u001b[0m\u001b[0;34m)\u001b[0m\u001b[0;34m,\u001b[0m\u001b[0;34m\u001b[0m\u001b[0;34m\u001b[0m\u001b[0m\n\u001b[1;32m    295\u001b[0m                                    config_overrides)\n\u001b[0;32m--> 296\u001b[0;31m         \u001b[0mjob\u001b[0m \u001b[0;34m=\u001b[0m \u001b[0mself\u001b[0m\u001b[0;34m.\u001b[0m\u001b[0m_wait_for_autoreport\u001b[0m\u001b[0;34m(\u001b[0m\u001b[0mkey\u001b[0m\u001b[0;34m)\u001b[0m\u001b[0;34m\u001b[0m\u001b[0;34m\u001b[0m\u001b[0m\n\u001b[0m\u001b[1;32m    297\u001b[0m         \u001b[0;32mreturn\u001b[0m \u001b[0mjob\u001b[0m\u001b[0;34m.\u001b[0m\u001b[0mentity\u001b[0m\u001b[0;34m\u001b[0m\u001b[0;34m\u001b[0m\u001b[0m\n\u001b[1;32m    298\u001b[0m \u001b[0;34m\u001b[0m\u001b[0m\n",
      "\u001b[0;32m/usr/local/anaconda3/lib/python3.7/site-packages/h2oai_client/protocol.py\u001b[0m in \u001b[0;36m_wait_for_autoreport\u001b[0;34m(self, key)\u001b[0m\n\u001b[1;32m    869\u001b[0m \u001b[0;34m\u001b[0m\u001b[0m\n\u001b[1;32m    870\u001b[0m     \u001b[0;32mdef\u001b[0m \u001b[0m_wait_for_autoreport\u001b[0m\u001b[0;34m(\u001b[0m\u001b[0mself\u001b[0m\u001b[0;34m,\u001b[0m \u001b[0mkey\u001b[0m\u001b[0;34m)\u001b[0m\u001b[0;34m:\u001b[0m\u001b[0;34m\u001b[0m\u001b[0;34m\u001b[0m\u001b[0m\n\u001b[0;32m--> 871\u001b[0;31m         \u001b[0;32mreturn\u001b[0m \u001b[0mself\u001b[0m\u001b[0;34m.\u001b[0m\u001b[0m_wait_for_entity_job\u001b[0m\u001b[0;34m(\u001b[0m\u001b[0;32mlambda\u001b[0m \u001b[0;34m:\u001b[0m \u001b[0mself\u001b[0m\u001b[0;34m.\u001b[0m\u001b[0mget_autoreport_job\u001b[0m\u001b[0;34m(\u001b[0m\u001b[0mkey\u001b[0m\u001b[0;34m)\u001b[0m\u001b[0;34m)\u001b[0m\u001b[0;34m\u001b[0m\u001b[0;34m\u001b[0m\u001b[0m\n\u001b[0m\u001b[1;32m    872\u001b[0m \u001b[0;34m\u001b[0m\u001b[0m\n\u001b[1;32m    873\u001b[0m     \u001b[0;32mdef\u001b[0m \u001b[0m_wait_for_transformation\u001b[0m\u001b[0;34m(\u001b[0m\u001b[0mself\u001b[0m\u001b[0;34m,\u001b[0m \u001b[0mkey\u001b[0m\u001b[0;34m)\u001b[0m\u001b[0;34m:\u001b[0m\u001b[0;34m\u001b[0m\u001b[0;34m\u001b[0m\u001b[0m\n",
      "\u001b[0;32m/usr/local/anaconda3/lib/python3.7/site-packages/h2oai_client/protocol.py\u001b[0m in \u001b[0;36m_wait_for_entity_job\u001b[0;34m(self, job_getter)\u001b[0m\n\u001b[1;32m    856\u001b[0m             \u001b[0;32mif\u001b[0m \u001b[0mjob\u001b[0m\u001b[0;34m.\u001b[0m\u001b[0mstatus\u001b[0m \u001b[0;34m>=\u001b[0m \u001b[0;36m0\u001b[0m\u001b[0;34m:\u001b[0m  \u001b[0;31m# done\u001b[0m\u001b[0;34m\u001b[0m\u001b[0;34m\u001b[0m\u001b[0m\n\u001b[1;32m    857\u001b[0m                 \u001b[0;32mif\u001b[0m \u001b[0mjob\u001b[0m\u001b[0;34m.\u001b[0m\u001b[0mstatus\u001b[0m \u001b[0;34m>\u001b[0m \u001b[0;36m0\u001b[0m\u001b[0;34m:\u001b[0m  \u001b[0;31m# canceled or failed\u001b[0m\u001b[0;34m\u001b[0m\u001b[0;34m\u001b[0m\u001b[0m\n\u001b[0;32m--> 858\u001b[0;31m                     \u001b[0;32mraise\u001b[0m \u001b[0mRuntimeError\u001b[0m\u001b[0;34m(\u001b[0m\u001b[0mself\u001b[0m\u001b[0;34m.\u001b[0m\u001b[0m_format_server_error\u001b[0m\u001b[0;34m(\u001b[0m\u001b[0mjob\u001b[0m\u001b[0;34m.\u001b[0m\u001b[0merror\u001b[0m\u001b[0;34m)\u001b[0m\u001b[0;34m)\u001b[0m\u001b[0;34m\u001b[0m\u001b[0;34m\u001b[0m\u001b[0m\n\u001b[0m\u001b[1;32m    859\u001b[0m                 \u001b[0;32mreturn\u001b[0m \u001b[0mjob\u001b[0m\u001b[0;34m\u001b[0m\u001b[0;34m\u001b[0m\u001b[0m\n\u001b[1;32m    860\u001b[0m \u001b[0;34m\u001b[0m\u001b[0m\n",
      "\u001b[0;31mRuntimeError\u001b[0m: Driverless AI Server reported an error: Package not found at '/opt/h2oai/dai/tmp/uploads/markdown_template1.md'"
     ]
    }
   ],
   "source": [
    "report = h2oai.create_and_download_autoreport(\n",
    "    model_key = model_key,\n",
    "    mli_key = mli_key,\n",
    "#    output_type = 'md',\n",
    "#    report_name = 'certification_test_report',\n",
    "    dest_dir = '/Users/dwhiting/github/davidwhiting/certification_test/',\n",
    "    template_path = '/Users/dwhiting/github/davidwhiting/certification_test/markdown_template.md'\n",
    "#    config_overrides=config_overrides\n",
    "#    ,\n",
    "#    individual_rows=[0,1]\n",
    ")"
   ]
  },
  {
   "cell_type": "code",
   "execution_count": null,
   "metadata": {},
   "outputs": [],
   "source": []
  },
  {
   "cell_type": "code",
   "execution_count": 48,
   "metadata": {},
   "outputs": [
    {
     "data": {
      "text/plain": [
       "['__add__',\n",
       " '__class__',\n",
       " '__contains__',\n",
       " '__delattr__',\n",
       " '__dir__',\n",
       " '__doc__',\n",
       " '__eq__',\n",
       " '__format__',\n",
       " '__ge__',\n",
       " '__getattribute__',\n",
       " '__getitem__',\n",
       " '__getnewargs__',\n",
       " '__gt__',\n",
       " '__hash__',\n",
       " '__init__',\n",
       " '__init_subclass__',\n",
       " '__iter__',\n",
       " '__le__',\n",
       " '__len__',\n",
       " '__lt__',\n",
       " '__mod__',\n",
       " '__mul__',\n",
       " '__ne__',\n",
       " '__new__',\n",
       " '__reduce__',\n",
       " '__reduce_ex__',\n",
       " '__repr__',\n",
       " '__rmod__',\n",
       " '__rmul__',\n",
       " '__setattr__',\n",
       " '__sizeof__',\n",
       " '__str__',\n",
       " '__subclasshook__',\n",
       " 'capitalize',\n",
       " 'casefold',\n",
       " 'center',\n",
       " 'count',\n",
       " 'encode',\n",
       " 'endswith',\n",
       " 'expandtabs',\n",
       " 'find',\n",
       " 'format',\n",
       " 'format_map',\n",
       " 'index',\n",
       " 'isalnum',\n",
       " 'isalpha',\n",
       " 'isascii',\n",
       " 'isdecimal',\n",
       " 'isdigit',\n",
       " 'isidentifier',\n",
       " 'islower',\n",
       " 'isnumeric',\n",
       " 'isprintable',\n",
       " 'isspace',\n",
       " 'istitle',\n",
       " 'isupper',\n",
       " 'join',\n",
       " 'ljust',\n",
       " 'lower',\n",
       " 'lstrip',\n",
       " 'maketrans',\n",
       " 'partition',\n",
       " 'replace',\n",
       " 'rfind',\n",
       " 'rindex',\n",
       " 'rjust',\n",
       " 'rpartition',\n",
       " 'rsplit',\n",
       " 'rstrip',\n",
       " 'split',\n",
       " 'splitlines',\n",
       " 'startswith',\n",
       " 'strip',\n",
       " 'swapcase',\n",
       " 'title',\n",
       " 'translate',\n",
       " 'upper',\n",
       " 'zfill']"
      ]
     },
     "execution_count": 48,
     "metadata": {},
     "output_type": "execute_result"
    }
   ],
   "source": [
    "dir(report)"
   ]
  },
  {
   "cell_type": "code",
   "execution_count": 50,
   "metadata": {},
   "outputs": [
    {
     "data": {
      "text/plain": [
       "'/Users/dwhiting/github/davidwhiting/certification_test/report.docx'"
      ]
     },
     "execution_count": 50,
     "metadata": {},
     "output_type": "execute_result"
    }
   ],
   "source": [
    "report"
   ]
  },
  {
   "cell_type": "code",
   "execution_count": 24,
   "metadata": {},
   "outputs": [],
   "source": [
    "report = h2oai.make_autoreport_sync(\n",
    "    model_key = model_key,\n",
    "    mli_key = mli_key,\n",
    "    output_type = 'md',\n",
    "#     config_overrides=config_overrides,\n",
    "    individual_rows=[0,1]\n",
    ")"
   ]
  },
  {
   "cell_type": "code",
   "execution_count": 25,
   "metadata": {},
   "outputs": [
    {
     "name": "stdout",
     "output_type": "stream",
     "text": [
      "path to the AutoReport: h2oai_experiment_04c896ce-7ed1-11ea-96d6-0242ac110002/report_ed798_tmp/report.docx\n"
     ]
    }
   ],
   "source": [
    "print(\"path to the AutoReport:\", report.report_path)"
   ]
  },
  {
   "cell_type": "code",
   "execution_count": 26,
   "metadata": {},
   "outputs": [
    {
     "data": {
      "text/plain": [
       "['__class__',\n",
       " '__delattr__',\n",
       " '__dict__',\n",
       " '__dir__',\n",
       " '__doc__',\n",
       " '__eq__',\n",
       " '__format__',\n",
       " '__ge__',\n",
       " '__getattribute__',\n",
       " '__gt__',\n",
       " '__hash__',\n",
       " '__init__',\n",
       " '__init_subclass__',\n",
       " '__le__',\n",
       " '__lt__',\n",
       " '__module__',\n",
       " '__ne__',\n",
       " '__new__',\n",
       " '__reduce__',\n",
       " '__reduce_ex__',\n",
       " '__repr__',\n",
       " '__setattr__',\n",
       " '__sizeof__',\n",
       " '__str__',\n",
       " '__subclasshook__',\n",
       " '__weakref__',\n",
       " 'binned_list',\n",
       " 'clone',\n",
       " 'description',\n",
       " 'dump',\n",
       " 'key',\n",
       " 'labels',\n",
       " 'lime_rc_csv_path',\n",
       " 'load',\n",
       " 'log_file_path',\n",
       " 'parameters',\n",
       " 'scoring_package_path',\n",
       " 'shapley_orig_rc_csv_path',\n",
       " 'shapley_rc_csv_path',\n",
       " 'subtask_keys',\n",
       " 'tmp_dir',\n",
       " 'training_duration']"
      ]
     },
     "execution_count": 26,
     "metadata": {},
     "output_type": "execute_result"
    }
   ],
   "source": [
    "dir(mli_experiment)"
   ]
  },
  {
   "cell_type": "code",
   "execution_count": 29,
   "metadata": {},
   "outputs": [
    {
     "data": {
      "text/plain": [
       "['__class__',\n",
       " '__delattr__',\n",
       " '__dict__',\n",
       " '__dir__',\n",
       " '__doc__',\n",
       " '__eq__',\n",
       " '__format__',\n",
       " '__ge__',\n",
       " '__getattribute__',\n",
       " '__gt__',\n",
       " '__hash__',\n",
       " '__init__',\n",
       " '__init_subclass__',\n",
       " '__le__',\n",
       " '__lt__',\n",
       " '__module__',\n",
       " '__ne__',\n",
       " '__new__',\n",
       " '__reduce__',\n",
       " '__reduce_ex__',\n",
       " '__repr__',\n",
       " '__setattr__',\n",
       " '__sizeof__',\n",
       " '__str__',\n",
       " '__subclasshook__',\n",
       " '__weakref__',\n",
       " 'clone',\n",
       " 'config_overrides',\n",
       " 'dai_model',\n",
       " 'dataset',\n",
       " 'dia_cols',\n",
       " 'drop_cols',\n",
       " 'dt_tree_depth',\n",
       " 'dump',\n",
       " 'klime_cluster_col',\n",
       " 'lime_method',\n",
       " 'load',\n",
       " 'nfolds',\n",
       " 'prediction_col',\n",
       " 'qbin_cols',\n",
       " 'qbin_count',\n",
       " 'sample',\n",
       " 'sample_num_rows',\n",
       " 'target_col',\n",
       " 'use_raw_features',\n",
       " 'vars_to_pdp',\n",
       " 'weight_col']"
      ]
     },
     "execution_count": 29,
     "metadata": {},
     "output_type": "execute_result"
    }
   ],
   "source": [
    "dir(mli_experiment.parameters)"
   ]
  },
  {
   "cell_type": "code",
   "execution_count": 32,
   "metadata": {},
   "outputs": [
    {
     "ename": "RemoteError",
     "evalue": "{'code': 0, 'message': 'ValueError: ? Invalid model key provided! ?'}",
     "output_type": "error",
     "traceback": [
      "\u001b[0;31m---------------------------------------------------------------------------\u001b[0m",
      "\u001b[0;31mRemoteError\u001b[0m                               Traceback (most recent call last)",
      "\u001b[0;32m<ipython-input-32-4d955392e6e6>\u001b[0m in \u001b[0;36m<module>\u001b[0;34m\u001b[0m\n\u001b[0;32m----> 1\u001b[0;31m \u001b[0mtest_diagnostics\u001b[0m \u001b[0;34m=\u001b[0m \u001b[0mh2oai\u001b[0m\u001b[0;34m.\u001b[0m\u001b[0mmake_model_diagnostic_sync\u001b[0m\u001b[0;34m(\u001b[0m\u001b[0mmodel_key\u001b[0m\u001b[0;34m,\u001b[0m \u001b[0mtest\u001b[0m\u001b[0;34m.\u001b[0m\u001b[0mkey\u001b[0m\u001b[0;34m)\u001b[0m\u001b[0;34m\u001b[0m\u001b[0;34m\u001b[0m\u001b[0m\n\u001b[0m",
      "\u001b[0;32m/usr/local/anaconda3/lib/python3.7/site-packages/h2oai_client/protocol.py\u001b[0m in \u001b[0;36mmake_model_diagnostic_sync\u001b[0;34m(self, model_key, dataset_key)\u001b[0m\n\u001b[1;32m    385\u001b[0m         \"\"\"\n\u001b[1;32m    386\u001b[0m \u001b[0;34m\u001b[0m\u001b[0m\n\u001b[0;32m--> 387\u001b[0;31m         \u001b[0mkey\u001b[0m \u001b[0;34m=\u001b[0m \u001b[0mself\u001b[0m\u001b[0;34m.\u001b[0m\u001b[0mget_model_diagnostic\u001b[0m\u001b[0;34m(\u001b[0m\u001b[0mmodel_key\u001b[0m\u001b[0;34m,\u001b[0m \u001b[0mdataset_key\u001b[0m\u001b[0;34m)\u001b[0m\u001b[0;34m\u001b[0m\u001b[0;34m\u001b[0m\u001b[0m\n\u001b[0m\u001b[1;32m    388\u001b[0m         \u001b[0mjob\u001b[0m \u001b[0;34m=\u001b[0m \u001b[0mself\u001b[0m\u001b[0;34m.\u001b[0m\u001b[0m_wait_for_model_diagnostic\u001b[0m\u001b[0;34m(\u001b[0m\u001b[0mkey\u001b[0m\u001b[0;34m)\u001b[0m\u001b[0;34m\u001b[0m\u001b[0;34m\u001b[0m\u001b[0m\n\u001b[1;32m    389\u001b[0m         \u001b[0;32mreturn\u001b[0m \u001b[0mjob\u001b[0m\u001b[0;34m.\u001b[0m\u001b[0mentity\u001b[0m\u001b[0;34m\u001b[0m\u001b[0;34m\u001b[0m\u001b[0m\n",
      "\u001b[0;32m/usr/local/anaconda3/lib/python3.7/site-packages/h2oai_client/protocol.py\u001b[0m in \u001b[0;36mget_model_diagnostic\u001b[0;34m(self, model_key, dataset_key)\u001b[0m\n\u001b[1;32m   2545\u001b[0m         \"\"\"\n\u001b[1;32m   2546\u001b[0m         \u001b[0mreq_\u001b[0m \u001b[0;34m=\u001b[0m \u001b[0mdict\u001b[0m\u001b[0;34m(\u001b[0m\u001b[0mmodel_key\u001b[0m\u001b[0;34m=\u001b[0m\u001b[0mmodel_key\u001b[0m\u001b[0;34m,\u001b[0m \u001b[0mdataset_key\u001b[0m\u001b[0;34m=\u001b[0m\u001b[0mdataset_key\u001b[0m\u001b[0;34m)\u001b[0m\u001b[0;34m\u001b[0m\u001b[0;34m\u001b[0m\u001b[0m\n\u001b[0;32m-> 2547\u001b[0;31m         \u001b[0mres_\u001b[0m \u001b[0;34m=\u001b[0m \u001b[0mself\u001b[0m\u001b[0;34m.\u001b[0m\u001b[0m_request\u001b[0m\u001b[0;34m(\u001b[0m\u001b[0;34m'get_model_diagnostic'\u001b[0m\u001b[0;34m,\u001b[0m \u001b[0mreq_\u001b[0m\u001b[0;34m)\u001b[0m\u001b[0;34m\u001b[0m\u001b[0;34m\u001b[0m\u001b[0m\n\u001b[0m\u001b[1;32m   2548\u001b[0m         \u001b[0;32mreturn\u001b[0m \u001b[0mres_\u001b[0m\u001b[0;34m\u001b[0m\u001b[0;34m\u001b[0m\u001b[0m\n\u001b[1;32m   2549\u001b[0m \u001b[0;34m\u001b[0m\u001b[0m\n",
      "\u001b[0;32m/usr/local/anaconda3/lib/python3.7/site-packages/h2oai_client/protocol.py\u001b[0m in \u001b[0;36m_request\u001b[0;34m(self, method, params)\u001b[0m\n\u001b[1;32m     63\u001b[0m         \u001b[0mresponse\u001b[0m \u001b[0;34m=\u001b[0m \u001b[0mres\u001b[0m\u001b[0;34m.\u001b[0m\u001b[0mjson\u001b[0m\u001b[0;34m(\u001b[0m\u001b[0;34m)\u001b[0m\u001b[0;34m\u001b[0m\u001b[0;34m\u001b[0m\u001b[0m\n\u001b[1;32m     64\u001b[0m         \u001b[0;32mif\u001b[0m \u001b[0;34m\"error\"\u001b[0m \u001b[0;32min\u001b[0m \u001b[0mresponse\u001b[0m\u001b[0;34m:\u001b[0m\u001b[0;34m\u001b[0m\u001b[0;34m\u001b[0m\u001b[0m\n\u001b[0;32m---> 65\u001b[0;31m             \u001b[0;32mraise\u001b[0m \u001b[0mRemoteError\u001b[0m\u001b[0;34m(\u001b[0m\u001b[0mresponse\u001b[0m\u001b[0;34m[\u001b[0m\u001b[0;34m\"error\"\u001b[0m\u001b[0;34m]\u001b[0m\u001b[0;34m)\u001b[0m\u001b[0;34m\u001b[0m\u001b[0;34m\u001b[0m\u001b[0m\n\u001b[0m\u001b[1;32m     66\u001b[0m \u001b[0;34m\u001b[0m\u001b[0m\n\u001b[1;32m     67\u001b[0m         \u001b[0;32mreturn\u001b[0m \u001b[0mresponse\u001b[0m\u001b[0;34m[\u001b[0m\u001b[0;34m\"result\"\u001b[0m\u001b[0;34m]\u001b[0m\u001b[0;34m\u001b[0m\u001b[0;34m\u001b[0m\u001b[0m\n",
      "\u001b[0;31mRemoteError\u001b[0m: {'code': 0, 'message': 'ValueError: ? Invalid model key provided! ?'}"
     ]
    }
   ],
   "source": [
    "test_diagnostics = h2oai.make_model_diagnostic_sync(model_key, test.key)"
   ]
  },
  {
   "cell_type": "code",
   "execution_count": 31,
   "metadata": {},
   "outputs": [
    {
     "data": {
      "text/plain": [
       "'04c896ce-7ed1-11ea-96d6-0242ac110002'"
      ]
     },
     "execution_count": 31,
     "metadata": {},
     "output_type": "execute_result"
    }
   ],
   "source": [
    "model_key"
   ]
  },
  {
   "cell_type": "code",
   "execution_count": 33,
   "metadata": {},
   "outputs": [
    {
     "data": {
      "text/plain": [
       "''"
      ]
     },
     "execution_count": 33,
     "metadata": {},
     "output_type": "execute_result"
    }
   ],
   "source": [
    "test.key"
   ]
  },
  {
   "cell_type": "code",
   "execution_count": null,
   "metadata": {},
   "outputs": [],
   "source": []
  }
 ],
 "metadata": {
  "kernelspec": {
   "display_name": "Python 3",
   "language": "python",
   "name": "python3"
  },
  "language_info": {
   "codemirror_mode": {
    "name": "ipython",
    "version": 3
   },
   "file_extension": ".py",
   "mimetype": "text/x-python",
   "name": "python",
   "nbconvert_exporter": "python",
   "pygments_lexer": "ipython3",
   "version": "3.7.4"
  }
 },
 "nbformat": 4,
 "nbformat_minor": 4
}
