{
 "cells": [
  {
   "cell_type": "markdown",
   "metadata": {},
   "source": [
    "# Driverless AI (1.8.4.1): Using the Python API\n",
    "This notebook provides an H2OAI Client workflow, of model building and scoring, that parallels the Driverless AI workflow.\n",
    "\n",
    "## Notes:\n",
    "\n",
    "* The following code was built for DAI Version 1.8.4.1.\n",
    "* Python 3.6 is the only supported version.\n",
    "* You must install the `h2oai_client` wheel to your local Python. This is available from the RESOURCES link in the top menu of the UI.\n",
    "\n",
    "![py-client](h2oai_client_images/py_client_link.png)"
   ]
  },
  {
   "cell_type": "markdown",
   "metadata": {},
   "source": [
    "# Workflow Steps\n",
    "\n",
    "**Build an Experiment with Python API:**\n",
    "\n",
    "1. Sign in\n",
    "2. Exploratory Analysis\n",
    "3. Split data into train & test set\n",
    "4. Specify experiment parameters\n",
    "5. Launch Experiement\n",
    "6. Examine Experiment\n",
    "7. Download Predictions\n",
    "    \n",
    "**Build an Experiment in Web UI and Access Through Python:**\n",
    "\n",
    "1. Get pointer to experiment\n",
    "    \n",
    "**Score on New Data:**\n",
    "\n",
    "1. Score on new data with H2OAI model\n",
    "\n",
    "**Model Diagnostics on New Data:**\n",
    "\n",
    "1. Run model diagnostincs on new data with H2OAI model\n",
    "\n",
    "**Run Model Interpretation**\n",
    "\n",
    "1. Run model interpretation on the raw features\n",
    "2. Run Model Interpretation on External Model Predictions\n",
    "\n",
    "**Build Scoring Pipelines**\n",
    "\n",
    "1. Build Python Scoring Pipeline\n",
    "2. Build MOJO Scoring Pipeline"
   ]
  },
  {
   "cell_type": "markdown",
   "metadata": {},
   "source": [
    "# Build an Experiment with Python API\n",
    "\n",
    "### 1. Sign In\n",
    "\n",
    "Import the required modules and log in.\n",
    "\n",
    "Pass in your credentials through the Client class which creates an authentication token to send to the Driverless AI Server. In plain English: to sign into the Driverless AI web page (which then sends requests to the Driverless Server), instantiate the Client class with your Driverless AI address and login credentials."
   ]
  },
  {
   "cell_type": "code",
   "execution_count": 1,
   "metadata": {
    "ExecuteTime": {
     "end_time": "2020-04-15T20:36:25.064452Z",
     "start_time": "2020-04-15T20:36:25.059248Z"
    }
   },
   "outputs": [],
   "source": [
    "import h2oai_client\n",
    "import numpy as np\n",
    "import pandas as pd\n",
    "import requests\n",
    "import math\n",
    "import re\n",
    "import os\n",
    "from h2oai_client import Client, ModelParameters, InterpretParameters\n",
    "import matplotlib.pyplot as plt\n",
    "%matplotlib inline"
   ]
  },
  {
   "cell_type": "code",
   "execution_count": 2,
   "metadata": {
    "ExecuteTime": {
     "end_time": "2020-04-15T20:34:05.287655Z",
     "start_time": "2020-04-15T20:34:05.003370Z"
    }
   },
   "outputs": [],
   "source": [
    "# provide address, username, and password\n",
    "# make sure to use the same user name and password when signing in through the GUI\n",
    "address = 'http://ec2-52-90-34-74.compute-1.amazonaws.com:12345'\n",
    "username = ''\n",
    "password = ''\n",
    "dai = Client(address = address, username = username, password = password)"
   ]
  },
  {
   "cell_type": "code",
   "execution_count": 3,
   "metadata": {
    "ExecuteTime": {
     "end_time": "2020-04-15T20:34:05.304543Z",
     "start_time": "2020-04-15T20:34:05.301567Z"
    }
   },
   "outputs": [
    {
     "name": "stdout",
     "output_type": "stream",
     "text": [
      "1.8.4.1\n"
     ]
    }
   ],
   "source": [
    "### IMPORTANT: make sure that the Python client version is the same as the DAI backend that you're connecting to.\n",
    "### If not, make sure to download and install the Python client from the DAI version that you're using.\n",
    "print(h2oai_client.__version__)"
   ]
  },
  {
   "cell_type": "markdown",
   "metadata": {
    "collapsed": true
   },
   "source": [
    "#### Equivalent Steps in Driverless: Signing In\n",
    "![Equivalent Steps in Driverless: Signing In](h2oai_client_images/sign_in_home_page_0.png)\n",
    "\n",
    "![Equivalent Steps in Driverless: Signing In](h2oai_client_images/heart_disease_datafull.png)"
   ]
  },
  {
   "cell_type": "markdown",
   "metadata": {},
   "source": [
    "### 2. Exploratory Analysis\n",
    "\n",
    "For the following code, it is assumed that the full data are already loaded into DAI.\n",
    "\n",
    "##### Note that once a data set is loaded into or created in DAI, you will typically reference that data by its KEY. "
   ]
  },
  {
   "cell_type": "code",
   "execution_count": 4,
   "metadata": {
    "ExecuteTime": {
     "end_time": "2020-04-15T20:34:06.781633Z",
     "start_time": "2020-04-15T20:34:06.685499Z"
    }
   },
   "outputs": [
    {
     "data": {
      "text/plain": [
       "{'datasets': [{'key': '18551c7a-7f54-11ea-851a-0242ac110002',\n",
       "   'name': 'cleveland_heart_encoded.csv',\n",
       "   'file_path': './tmp/18551c7a-7f54-11ea-851a-0242ac110002/cleveland_heart_encoded.csv.1586980975.3127205.bin',\n",
       "   'file_size': 13632,\n",
       "   'data_source': 'upload',\n",
       "   'row_count': 303,\n",
       "   'column_count': 19,\n",
       "   'import_status': 0,\n",
       "   'import_error': '',\n",
       "   'aggregation_status': -1,\n",
       "   'aggregation_error': '',\n",
       "   'aggregated_frame': '',\n",
       "   'mapping_frame': '',\n",
       "   'uploaded': True}],\n",
       " 'offset': 0,\n",
       " 'limit': 10,\n",
       " 'total_count': 1}"
      ]
     },
     "execution_count": 4,
     "metadata": {},
     "output_type": "execute_result"
    }
   ],
   "source": [
    "### Structure of data storage in DAI\n",
    "dai.list_datasets(offset=0, limit=10, include_inactive=False).dump()"
   ]
  },
  {
   "cell_type": "code",
   "execution_count": 5,
   "metadata": {
    "ExecuteTime": {
     "end_time": "2020-04-15T20:34:07.362939Z",
     "start_time": "2020-04-15T20:34:07.267479Z"
    }
   },
   "outputs": [
    {
     "name": "stdout",
     "output_type": "stream",
     "text": [
      "18551c7a-7f54-11ea-851a-0242ac110002\t0.0GB\tcleveland_heart_encoded.csv\n"
     ]
    }
   ],
   "source": [
    "for d in dai.list_datasets(offset=0, limit=10, include_inactive=False).datasets:\n",
    "    print(d.key + \"\\t\" + str(round((d.file_size / 1000000000), 1)) + \"GB\\t\" + d.name)"
   ]
  },
  {
   "cell_type": "code",
   "execution_count": 6,
   "metadata": {
    "ExecuteTime": {
     "end_time": "2020-04-15T20:34:07.959120Z",
     "start_time": "2020-04-15T20:34:07.860585Z"
    }
   },
   "outputs": [
    {
     "data": {
      "text/plain": [
       "'18551c7a-7f54-11ea-851a-0242ac110002'"
      ]
     },
     "execution_count": 6,
     "metadata": {},
     "output_type": "execute_result"
    }
   ],
   "source": [
    "for d in dai.list_datasets(offset=0, limit=10, include_inactive=False).datasets:\n",
    "    if d.name == \"cleveland_heart_encoded.csv\":\n",
    "        full_data_key = d.key \n",
    "        \n",
    "full_data_key"
   ]
  },
  {
   "cell_type": "code",
   "execution_count": 7,
   "metadata": {
    "ExecuteTime": {
     "end_time": "2020-04-15T20:34:09.393269Z",
     "start_time": "2020-04-15T20:34:09.012147Z"
    }
   },
   "outputs": [
    {
     "data": {
      "text/html": [
       "<div>\n",
       "<style scoped>\n",
       "    .dataframe tbody tr th:only-of-type {\n",
       "        vertical-align: middle;\n",
       "    }\n",
       "\n",
       "    .dataframe tbody tr th {\n",
       "        vertical-align: top;\n",
       "    }\n",
       "\n",
       "    .dataframe thead th {\n",
       "        text-align: right;\n",
       "    }\n",
       "</style>\n",
       "<table border=\"1\" class=\"dataframe\">\n",
       "  <thead>\n",
       "    <tr style=\"text-align: right;\">\n",
       "      <th></th>\n",
       "      <th>age</th>\n",
       "      <th>trestbps</th>\n",
       "      <th>chol</th>\n",
       "      <th>fbs</th>\n",
       "      <th>thalach</th>\n",
       "      <th>exang</th>\n",
       "      <th>oldpeak</th>\n",
       "      <th>ca</th>\n",
       "      <th>target</th>\n",
       "      <th>male</th>\n",
       "      <th>cp_asymptomatic</th>\n",
       "      <th>cp_atypticalAngina</th>\n",
       "      <th>cp_typicalAngina</th>\n",
       "      <th>restECG_LVH</th>\n",
       "      <th>restECG_normal</th>\n",
       "      <th>slope_flat</th>\n",
       "      <th>slope_upsloping</th>\n",
       "      <th>thal_fixedDefect</th>\n",
       "      <th>thal_reversableDefect</th>\n",
       "    </tr>\n",
       "  </thead>\n",
       "  <tbody>\n",
       "    <tr>\n",
       "      <th>0</th>\n",
       "      <td>63</td>\n",
       "      <td>145</td>\n",
       "      <td>233</td>\n",
       "      <td>1</td>\n",
       "      <td>150</td>\n",
       "      <td>0</td>\n",
       "      <td>2.3</td>\n",
       "      <td>2.0</td>\n",
       "      <td>0</td>\n",
       "      <td>1</td>\n",
       "      <td>0</td>\n",
       "      <td>0</td>\n",
       "      <td>1</td>\n",
       "      <td>1</td>\n",
       "      <td>0</td>\n",
       "      <td>0</td>\n",
       "      <td>0</td>\n",
       "      <td>1.0</td>\n",
       "      <td>0.0</td>\n",
       "    </tr>\n",
       "    <tr>\n",
       "      <th>1</th>\n",
       "      <td>67</td>\n",
       "      <td>160</td>\n",
       "      <td>286</td>\n",
       "      <td>0</td>\n",
       "      <td>108</td>\n",
       "      <td>1</td>\n",
       "      <td>1.5</td>\n",
       "      <td>5.0</td>\n",
       "      <td>1</td>\n",
       "      <td>1</td>\n",
       "      <td>1</td>\n",
       "      <td>0</td>\n",
       "      <td>0</td>\n",
       "      <td>1</td>\n",
       "      <td>0</td>\n",
       "      <td>1</td>\n",
       "      <td>0</td>\n",
       "      <td>0.0</td>\n",
       "      <td>0.0</td>\n",
       "    </tr>\n",
       "    <tr>\n",
       "      <th>2</th>\n",
       "      <td>67</td>\n",
       "      <td>120</td>\n",
       "      <td>229</td>\n",
       "      <td>0</td>\n",
       "      <td>129</td>\n",
       "      <td>1</td>\n",
       "      <td>2.6</td>\n",
       "      <td>4.0</td>\n",
       "      <td>1</td>\n",
       "      <td>1</td>\n",
       "      <td>1</td>\n",
       "      <td>0</td>\n",
       "      <td>0</td>\n",
       "      <td>1</td>\n",
       "      <td>0</td>\n",
       "      <td>1</td>\n",
       "      <td>0</td>\n",
       "      <td>0.0</td>\n",
       "      <td>1.0</td>\n",
       "    </tr>\n",
       "    <tr>\n",
       "      <th>3</th>\n",
       "      <td>37</td>\n",
       "      <td>130</td>\n",
       "      <td>250</td>\n",
       "      <td>0</td>\n",
       "      <td>187</td>\n",
       "      <td>0</td>\n",
       "      <td>3.5</td>\n",
       "      <td>2.0</td>\n",
       "      <td>0</td>\n",
       "      <td>1</td>\n",
       "      <td>0</td>\n",
       "      <td>0</td>\n",
       "      <td>0</td>\n",
       "      <td>0</td>\n",
       "      <td>1</td>\n",
       "      <td>0</td>\n",
       "      <td>0</td>\n",
       "      <td>0.0</td>\n",
       "      <td>0.0</td>\n",
       "    </tr>\n",
       "    <tr>\n",
       "      <th>4</th>\n",
       "      <td>41</td>\n",
       "      <td>130</td>\n",
       "      <td>204</td>\n",
       "      <td>0</td>\n",
       "      <td>172</td>\n",
       "      <td>0</td>\n",
       "      <td>1.4</td>\n",
       "      <td>2.0</td>\n",
       "      <td>0</td>\n",
       "      <td>0</td>\n",
       "      <td>0</td>\n",
       "      <td>1</td>\n",
       "      <td>0</td>\n",
       "      <td>1</td>\n",
       "      <td>0</td>\n",
       "      <td>0</td>\n",
       "      <td>1</td>\n",
       "      <td>0.0</td>\n",
       "      <td>0.0</td>\n",
       "    </tr>\n",
       "  </tbody>\n",
       "</table>\n",
       "</div>"
      ],
      "text/plain": [
       "   age  trestbps  chol  fbs  thalach  exang  oldpeak   ca  target  male  \\\n",
       "0   63       145   233    1      150      0      2.3  2.0       0     1   \n",
       "1   67       160   286    0      108      1      1.5  5.0       1     1   \n",
       "2   67       120   229    0      129      1      2.6  4.0       1     1   \n",
       "3   37       130   250    0      187      0      3.5  2.0       0     1   \n",
       "4   41       130   204    0      172      0      1.4  2.0       0     0   \n",
       "\n",
       "   cp_asymptomatic  cp_atypticalAngina  cp_typicalAngina  restECG_LVH  \\\n",
       "0                0                   0                 1            1   \n",
       "1                1                   0                 0            1   \n",
       "2                1                   0                 0            1   \n",
       "3                0                   0                 0            0   \n",
       "4                0                   1                 0            1   \n",
       "\n",
       "   restECG_normal  slope_flat  slope_upsloping  thal_fixedDefect  \\\n",
       "0               0           0                0               1.0   \n",
       "1               0           1                0               0.0   \n",
       "2               0           1                0               0.0   \n",
       "3               1           0                0               0.0   \n",
       "4               0           0                1               0.0   \n",
       "\n",
       "   thal_reversableDefect  \n",
       "0                    0.0  \n",
       "1                    0.0  \n",
       "2                    1.0  \n",
       "3                    0.0  \n",
       "4                    0.0  "
      ]
     },
     "execution_count": 7,
     "metadata": {},
     "output_type": "execute_result"
    }
   ],
   "source": [
    "dat = dai.create_csv_from_dataset(full_data_key)\n",
    "finished_dat = dai.get_create_csv_job(dat)\n",
    "# path needs to match expectation of _download\n",
    "path = re.sub(\"^/files/\", \"\", finished_dat.url)\n",
    "local_path = dai.download(path, '.')\n",
    "dat_full = pd.read_csv(local_path)\n",
    "dat_full.head()"
   ]
  },
  {
   "cell_type": "code",
   "execution_count": 8,
   "metadata": {
    "ExecuteTime": {
     "end_time": "2020-04-15T20:34:09.543228Z",
     "start_time": "2020-04-15T20:34:09.487205Z"
    }
   },
   "outputs": [
    {
     "data": {
      "text/html": [
       "<div>\n",
       "<style scoped>\n",
       "    .dataframe tbody tr th:only-of-type {\n",
       "        vertical-align: middle;\n",
       "    }\n",
       "\n",
       "    .dataframe tbody tr th {\n",
       "        vertical-align: top;\n",
       "    }\n",
       "\n",
       "    .dataframe thead th {\n",
       "        text-align: right;\n",
       "    }\n",
       "</style>\n",
       "<table border=\"1\" class=\"dataframe\">\n",
       "  <thead>\n",
       "    <tr style=\"text-align: right;\">\n",
       "      <th></th>\n",
       "      <th>age</th>\n",
       "      <th>trestbps</th>\n",
       "      <th>chol</th>\n",
       "      <th>fbs</th>\n",
       "      <th>thalach</th>\n",
       "      <th>exang</th>\n",
       "      <th>oldpeak</th>\n",
       "      <th>ca</th>\n",
       "      <th>target</th>\n",
       "      <th>male</th>\n",
       "      <th>cp_asymptomatic</th>\n",
       "      <th>cp_atypticalAngina</th>\n",
       "      <th>cp_typicalAngina</th>\n",
       "      <th>restECG_LVH</th>\n",
       "      <th>restECG_normal</th>\n",
       "      <th>slope_flat</th>\n",
       "      <th>slope_upsloping</th>\n",
       "      <th>thal_fixedDefect</th>\n",
       "      <th>thal_reversableDefect</th>\n",
       "    </tr>\n",
       "  </thead>\n",
       "  <tbody>\n",
       "    <tr>\n",
       "      <th>count</th>\n",
       "      <td>303.000000</td>\n",
       "      <td>303.000000</td>\n",
       "      <td>303.000000</td>\n",
       "      <td>303.000000</td>\n",
       "      <td>303.000000</td>\n",
       "      <td>303.000000</td>\n",
       "      <td>303.000000</td>\n",
       "      <td>299.000000</td>\n",
       "      <td>303.000000</td>\n",
       "      <td>303.000000</td>\n",
       "      <td>303.000000</td>\n",
       "      <td>303.000000</td>\n",
       "      <td>303.000000</td>\n",
       "      <td>303.000000</td>\n",
       "      <td>303.000000</td>\n",
       "      <td>303.000000</td>\n",
       "      <td>303.000000</td>\n",
       "      <td>301.000000</td>\n",
       "      <td>301.000000</td>\n",
       "    </tr>\n",
       "    <tr>\n",
       "      <th>mean</th>\n",
       "      <td>54.438944</td>\n",
       "      <td>131.689769</td>\n",
       "      <td>246.693069</td>\n",
       "      <td>0.148515</td>\n",
       "      <td>149.607261</td>\n",
       "      <td>0.326733</td>\n",
       "      <td>1.039604</td>\n",
       "      <td>2.672241</td>\n",
       "      <td>0.458746</td>\n",
       "      <td>0.679868</td>\n",
       "      <td>0.475248</td>\n",
       "      <td>0.165017</td>\n",
       "      <td>0.075908</td>\n",
       "      <td>0.488449</td>\n",
       "      <td>0.498350</td>\n",
       "      <td>0.462046</td>\n",
       "      <td>0.468647</td>\n",
       "      <td>0.059801</td>\n",
       "      <td>0.388704</td>\n",
       "    </tr>\n",
       "    <tr>\n",
       "      <th>std</th>\n",
       "      <td>9.038662</td>\n",
       "      <td>17.599748</td>\n",
       "      <td>51.776918</td>\n",
       "      <td>0.356198</td>\n",
       "      <td>22.875003</td>\n",
       "      <td>0.469794</td>\n",
       "      <td>1.161075</td>\n",
       "      <td>0.937438</td>\n",
       "      <td>0.499120</td>\n",
       "      <td>0.467299</td>\n",
       "      <td>0.500213</td>\n",
       "      <td>0.371809</td>\n",
       "      <td>0.265288</td>\n",
       "      <td>0.500693</td>\n",
       "      <td>0.500824</td>\n",
       "      <td>0.499382</td>\n",
       "      <td>0.499842</td>\n",
       "      <td>0.237512</td>\n",
       "      <td>0.488268</td>\n",
       "    </tr>\n",
       "    <tr>\n",
       "      <th>min</th>\n",
       "      <td>29.000000</td>\n",
       "      <td>94.000000</td>\n",
       "      <td>126.000000</td>\n",
       "      <td>0.000000</td>\n",
       "      <td>71.000000</td>\n",
       "      <td>0.000000</td>\n",
       "      <td>0.000000</td>\n",
       "      <td>2.000000</td>\n",
       "      <td>0.000000</td>\n",
       "      <td>0.000000</td>\n",
       "      <td>0.000000</td>\n",
       "      <td>0.000000</td>\n",
       "      <td>0.000000</td>\n",
       "      <td>0.000000</td>\n",
       "      <td>0.000000</td>\n",
       "      <td>0.000000</td>\n",
       "      <td>0.000000</td>\n",
       "      <td>0.000000</td>\n",
       "      <td>0.000000</td>\n",
       "    </tr>\n",
       "    <tr>\n",
       "      <th>25%</th>\n",
       "      <td>48.000000</td>\n",
       "      <td>120.000000</td>\n",
       "      <td>211.000000</td>\n",
       "      <td>0.000000</td>\n",
       "      <td>133.500000</td>\n",
       "      <td>0.000000</td>\n",
       "      <td>0.000000</td>\n",
       "      <td>2.000000</td>\n",
       "      <td>0.000000</td>\n",
       "      <td>0.000000</td>\n",
       "      <td>0.000000</td>\n",
       "      <td>0.000000</td>\n",
       "      <td>0.000000</td>\n",
       "      <td>0.000000</td>\n",
       "      <td>0.000000</td>\n",
       "      <td>0.000000</td>\n",
       "      <td>0.000000</td>\n",
       "      <td>0.000000</td>\n",
       "      <td>0.000000</td>\n",
       "    </tr>\n",
       "    <tr>\n",
       "      <th>50%</th>\n",
       "      <td>56.000000</td>\n",
       "      <td>130.000000</td>\n",
       "      <td>241.000000</td>\n",
       "      <td>0.000000</td>\n",
       "      <td>153.000000</td>\n",
       "      <td>0.000000</td>\n",
       "      <td>0.800000</td>\n",
       "      <td>2.000000</td>\n",
       "      <td>0.000000</td>\n",
       "      <td>1.000000</td>\n",
       "      <td>0.000000</td>\n",
       "      <td>0.000000</td>\n",
       "      <td>0.000000</td>\n",
       "      <td>0.000000</td>\n",
       "      <td>0.000000</td>\n",
       "      <td>0.000000</td>\n",
       "      <td>0.000000</td>\n",
       "      <td>0.000000</td>\n",
       "      <td>0.000000</td>\n",
       "    </tr>\n",
       "    <tr>\n",
       "      <th>75%</th>\n",
       "      <td>61.000000</td>\n",
       "      <td>140.000000</td>\n",
       "      <td>275.000000</td>\n",
       "      <td>0.000000</td>\n",
       "      <td>166.000000</td>\n",
       "      <td>1.000000</td>\n",
       "      <td>1.600000</td>\n",
       "      <td>3.000000</td>\n",
       "      <td>1.000000</td>\n",
       "      <td>1.000000</td>\n",
       "      <td>1.000000</td>\n",
       "      <td>0.000000</td>\n",
       "      <td>0.000000</td>\n",
       "      <td>1.000000</td>\n",
       "      <td>1.000000</td>\n",
       "      <td>1.000000</td>\n",
       "      <td>1.000000</td>\n",
       "      <td>0.000000</td>\n",
       "      <td>1.000000</td>\n",
       "    </tr>\n",
       "    <tr>\n",
       "      <th>max</th>\n",
       "      <td>77.000000</td>\n",
       "      <td>200.000000</td>\n",
       "      <td>564.000000</td>\n",
       "      <td>1.000000</td>\n",
       "      <td>202.000000</td>\n",
       "      <td>1.000000</td>\n",
       "      <td>6.200000</td>\n",
       "      <td>5.000000</td>\n",
       "      <td>1.000000</td>\n",
       "      <td>1.000000</td>\n",
       "      <td>1.000000</td>\n",
       "      <td>1.000000</td>\n",
       "      <td>1.000000</td>\n",
       "      <td>1.000000</td>\n",
       "      <td>1.000000</td>\n",
       "      <td>1.000000</td>\n",
       "      <td>1.000000</td>\n",
       "      <td>1.000000</td>\n",
       "      <td>1.000000</td>\n",
       "    </tr>\n",
       "  </tbody>\n",
       "</table>\n",
       "</div>"
      ],
      "text/plain": [
       "              age    trestbps        chol         fbs     thalach       exang  \\\n",
       "count  303.000000  303.000000  303.000000  303.000000  303.000000  303.000000   \n",
       "mean    54.438944  131.689769  246.693069    0.148515  149.607261    0.326733   \n",
       "std      9.038662   17.599748   51.776918    0.356198   22.875003    0.469794   \n",
       "min     29.000000   94.000000  126.000000    0.000000   71.000000    0.000000   \n",
       "25%     48.000000  120.000000  211.000000    0.000000  133.500000    0.000000   \n",
       "50%     56.000000  130.000000  241.000000    0.000000  153.000000    0.000000   \n",
       "75%     61.000000  140.000000  275.000000    0.000000  166.000000    1.000000   \n",
       "max     77.000000  200.000000  564.000000    1.000000  202.000000    1.000000   \n",
       "\n",
       "          oldpeak          ca      target        male  cp_asymptomatic  \\\n",
       "count  303.000000  299.000000  303.000000  303.000000       303.000000   \n",
       "mean     1.039604    2.672241    0.458746    0.679868         0.475248   \n",
       "std      1.161075    0.937438    0.499120    0.467299         0.500213   \n",
       "min      0.000000    2.000000    0.000000    0.000000         0.000000   \n",
       "25%      0.000000    2.000000    0.000000    0.000000         0.000000   \n",
       "50%      0.800000    2.000000    0.000000    1.000000         0.000000   \n",
       "75%      1.600000    3.000000    1.000000    1.000000         1.000000   \n",
       "max      6.200000    5.000000    1.000000    1.000000         1.000000   \n",
       "\n",
       "       cp_atypticalAngina  cp_typicalAngina  restECG_LVH  restECG_normal  \\\n",
       "count          303.000000        303.000000   303.000000      303.000000   \n",
       "mean             0.165017          0.075908     0.488449        0.498350   \n",
       "std              0.371809          0.265288     0.500693        0.500824   \n",
       "min              0.000000          0.000000     0.000000        0.000000   \n",
       "25%              0.000000          0.000000     0.000000        0.000000   \n",
       "50%              0.000000          0.000000     0.000000        0.000000   \n",
       "75%              0.000000          0.000000     1.000000        1.000000   \n",
       "max              1.000000          1.000000     1.000000        1.000000   \n",
       "\n",
       "       slope_flat  slope_upsloping  thal_fixedDefect  thal_reversableDefect  \n",
       "count  303.000000       303.000000        301.000000             301.000000  \n",
       "mean     0.462046         0.468647          0.059801               0.388704  \n",
       "std      0.499382         0.499842          0.237512               0.488268  \n",
       "min      0.000000         0.000000          0.000000               0.000000  \n",
       "25%      0.000000         0.000000          0.000000               0.000000  \n",
       "50%      0.000000         0.000000          0.000000               0.000000  \n",
       "75%      1.000000         1.000000          0.000000               1.000000  \n",
       "max      1.000000         1.000000          1.000000               1.000000  "
      ]
     },
     "execution_count": 8,
     "metadata": {},
     "output_type": "execute_result"
    }
   ],
   "source": [
    "dat_full.describe()"
   ]
  },
  {
   "cell_type": "markdown",
   "metadata": {},
   "source": [
    "#### Equivalent Steps in Driverless: Data Details\n",
    "![Equivalent Steps in Driverless: Data Detail](h2oai_client_images/heart_disease_details.png)"
   ]
  },
  {
   "cell_type": "markdown",
   "metadata": {},
   "source": [
    "#### Create DAI visualization manually:\n",
    "http://docs.h2o.ai/driverless-ai/1-8-lts/docs/userguide/examples/autoviz_client_example/autoviz_client_example.html#"
   ]
  },
  {
   "cell_type": "code",
   "execution_count": 9,
   "metadata": {
    "ExecuteTime": {
     "end_time": "2020-04-15T20:34:13.341498Z",
     "start_time": "2020-04-15T20:34:10.953602Z"
    }
   },
   "outputs": [],
   "source": [
    "hist = dai.autoviz.get_histogram(full_data_key, variable_name='age')\n",
    "scatterplot = dai.autoviz.get_scatterplot(full_data_key, x_variable_name='age', y_variable_name='thalach')"
   ]
  },
  {
   "cell_type": "code",
   "execution_count": 10,
   "metadata": {
    "ExecuteTime": {
     "end_time": "2020-04-15T20:34:13.380984Z",
     "start_time": "2020-04-15T20:34:13.374505Z"
    }
   },
   "outputs": [],
   "source": [
    "from vega import VegaLite"
   ]
  },
  {
   "cell_type": "code",
   "execution_count": 11,
   "metadata": {
    "ExecuteTime": {
     "end_time": "2020-04-15T20:34:14.486102Z",
     "start_time": "2020-04-15T20:34:14.481069Z"
    }
   },
   "outputs": [
    {
     "data": {
      "application/javascript": [
       "const spec = {\"schema\": \"https://vega.github.io/schema/vega-lite/v3.json\", \"data\": {\"values\": [{\"bin_start\": 29.0, \"count\": 1.0, \"bin_end\": 30.0}, {\"bin_start\": 30.0, \"count\": 0.0, \"bin_end\": 31.0}, {\"bin_start\": 31.0, \"count\": 0.0, \"bin_end\": 32.0}, {\"bin_start\": 32.0, \"count\": 0.0, \"bin_end\": 33.0}, {\"bin_start\": 33.0, \"count\": 0.0, \"bin_end\": 34.0}, {\"bin_start\": 34.0, \"count\": 2.0, \"bin_end\": 35.0}, {\"bin_start\": 35.0, \"count\": 4.0, \"bin_end\": 36.0}, {\"bin_start\": 36.0, \"count\": 0.0, \"bin_end\": 37.0}, {\"bin_start\": 37.0, \"count\": 2.0, \"bin_end\": 38.0}, {\"bin_start\": 38.0, \"count\": 2.0, \"bin_end\": 39.0}, {\"bin_start\": 39.0, \"count\": 4.0, \"bin_end\": 40.0}, {\"bin_start\": 40.0, \"count\": 3.0, \"bin_end\": 41.0}, {\"bin_start\": 41.0, \"count\": 10.0, \"bin_end\": 42.0}, {\"bin_start\": 42.0, \"count\": 8.0, \"bin_end\": 43.0}, {\"bin_start\": 43.0, \"count\": 8.0, \"bin_end\": 44.0}, {\"bin_start\": 44.0, \"count\": 11.0, \"bin_end\": 45.0}, {\"bin_start\": 45.0, \"count\": 8.0, \"bin_end\": 46.0}, {\"bin_start\": 46.0, \"count\": 7.0, \"bin_end\": 47.0}, {\"bin_start\": 47.0, \"count\": 5.0, \"bin_end\": 48.0}, {\"bin_start\": 48.0, \"count\": 7.0, \"bin_end\": 49.0}, {\"bin_start\": 49.0, \"count\": 5.0, \"bin_end\": 50.0}, {\"bin_start\": 50.0, \"count\": 7.0, \"bin_end\": 51.0}, {\"bin_start\": 51.0, \"count\": 12.0, \"bin_end\": 52.0}, {\"bin_start\": 52.0, \"count\": 13.0, \"bin_end\": 53.0}, {\"bin_start\": 53.0, \"count\": 8.0, \"bin_end\": 54.0}, {\"bin_start\": 54.0, \"count\": 16.0, \"bin_end\": 55.0}, {\"bin_start\": 55.0, \"count\": 8.0, \"bin_end\": 56.0}, {\"bin_start\": 56.0, \"count\": 11.0, \"bin_end\": 57.0}, {\"bin_start\": 57.0, \"count\": 17.0, \"bin_end\": 58.0}, {\"bin_start\": 58.0, \"count\": 19.0, \"bin_end\": 59.0}, {\"bin_start\": 59.0, \"count\": 14.0, \"bin_end\": 60.0}, {\"bin_start\": 60.0, \"count\": 12.0, \"bin_end\": 61.0}, {\"bin_start\": 61.0, \"count\": 8.0, \"bin_end\": 62.0}, {\"bin_start\": 62.0, \"count\": 11.0, \"bin_end\": 63.0}, {\"bin_start\": 63.0, \"count\": 9.0, \"bin_end\": 64.0}, {\"bin_start\": 64.0, \"count\": 10.0, \"bin_end\": 65.0}, {\"bin_start\": 65.0, \"count\": 8.0, \"bin_end\": 66.0}, {\"bin_start\": 66.0, \"count\": 7.0, \"bin_end\": 67.0}, {\"bin_start\": 67.0, \"count\": 9.0, \"bin_end\": 68.0}, {\"bin_start\": 68.0, \"count\": 4.0, \"bin_end\": 69.0}, {\"bin_start\": 69.0, \"count\": 3.0, \"bin_end\": 70.0}, {\"bin_start\": 70.0, \"count\": 4.0, \"bin_end\": 71.0}, {\"bin_start\": 71.0, \"count\": 3.0, \"bin_end\": 72.0}, {\"bin_start\": 72.0, \"count\": 0.0, \"bin_end\": 73.0}, {\"bin_start\": 73.0, \"count\": 0.0, \"bin_end\": 74.0}, {\"bin_start\": 74.0, \"count\": 1.0, \"bin_end\": 75.0}, {\"bin_start\": 75.0, \"count\": 0.0, \"bin_end\": 76.0}, {\"bin_start\": 76.0, \"count\": 1.0, \"bin_end\": 77.0}, {\"bin_start\": 77.0, \"count\": 1.0, \"bin_end\": 78.0}]}, \"mark\": {\"size\": 3.0, \"color\": \"blue\", \"type\": \"rule\"}, \"encoding\": {\"x\": {\"field\": \"bin_start\", \"bin\": {\"binned\": true, \"step\": 1.0}, \"type\": \"quantitative\", \"axis\": {\"title\": \"age\"}}, \"y\": {\"field\": \"count\", \"type\": \"quantitative\"}, \"x2\": {\"field\": \"bin_end\"}}};\n",
       "const opt = {};\n",
       "const type = \"vega-lite\";\n",
       "const id = \"d57cdcb4-5cce-40bb-8ec4-7dcdef47eeb0\";\n",
       "\n",
       "const output_area = this;\n",
       "\n",
       "require([\"nbextensions/jupyter-vega/index\"], function(vega) {\n",
       "  const target = document.createElement(\"div\");\n",
       "  target.id = id;\n",
       "  target.className = \"vega-embed\";\n",
       "\n",
       "  const style = document.createElement(\"style\");\n",
       "  style.textContent = [\n",
       "    \".vega-embed .error p {\",\n",
       "    \"  color: firebrick;\",\n",
       "    \"  font-size: 14px;\",\n",
       "    \"}\",\n",
       "  ].join(\"\\\\n\");\n",
       "\n",
       "  // element is a jQuery wrapped DOM element inside the output area\n",
       "  // see http://ipython.readthedocs.io/en/stable/api/generated/\\\n",
       "  // IPython.display.html#IPython.display.Javascript.__init__\n",
       "  element[0].appendChild(target);\n",
       "  element[0].appendChild(style);\n",
       "\n",
       "  vega.render(\"#\" + id, spec, type, opt, output_area);\n",
       "}, function (err) {\n",
       "  if (err.requireType !== \"scripterror\") {\n",
       "    throw(err);\n",
       "  }\n",
       "});\n"
      ],
      "text/plain": [
       "<vega.vegalite.VegaLite at 0x1189b46d0>"
      ]
     },
     "execution_count": 11,
     "metadata": {
      "jupyter-vega": "#d57cdcb4-5cce-40bb-8ec4-7dcdef47eeb0"
     },
     "output_type": "execute_result"
    },
    {
     "data": {
      "image/png": "[encoded data removed]"
     },
     "metadata": {
      "jupyter-vega": "#d57cdcb4-5cce-40bb-8ec4-7dcdef47eeb0"
     },
     "output_type": "display_data"
    }
   ],
   "source": [
    "# to view plots inline, installation of https://github.com/vega/ipyvega may be required\n",
    "VegaLite(hist)"
   ]
  },
  {
   "cell_type": "code",
   "execution_count": 12,
   "metadata": {},
   "outputs": [
    {
     "data": {
      "application/javascript": [
       "const spec = {\"schema\": \"https://vega.github.io/schema/vega-lite/v3.json\", \"data\": {\"values\": [{\"x\": 29.0, \"count\": 1.0, \"y\": 202.0}, {\"x\": 34.0, \"count\": 1.0, \"y\": 174.0}, {\"x\": 34.0, \"count\": 1.0, \"y\": 192.0}, {\"x\": 35.0, \"count\": 1.0, \"y\": 182.0}, {\"x\": 35.0, \"count\": 1.0, \"y\": 130.0}, {\"x\": 35.0, \"count\": 1.0, \"y\": 156.0}, {\"x\": 35.0, \"count\": 1.0, \"y\": 174.0}, {\"x\": 37.0, \"count\": 1.0, \"y\": 187.0}, {\"x\": 37.0, \"count\": 1.0, \"y\": 170.0}, {\"x\": 38.0, \"count\": 1.0, \"y\": 182.0}, {\"x\": 38.0, \"count\": 1.0, \"y\": 173.0}, {\"x\": 39.0, \"count\": 1.0, \"y\": 182.0}, {\"x\": 39.0, \"count\": 1.0, \"y\": 140.0}, {\"x\": 39.0, \"count\": 1.0, \"y\": 179.0}, {\"x\": 39.0, \"count\": 1.0, \"y\": 152.0}, {\"x\": 40.0, \"count\": 1.0, \"y\": 114.0}, {\"x\": 40.0, \"count\": 1.0, \"y\": 178.0}, {\"x\": 40.0, \"count\": 1.0, \"y\": 181.0}, {\"x\": 41.0, \"count\": 1.0, \"y\": 172.0}, {\"x\": 41.0, \"count\": 1.0, \"y\": 168.0}, {\"x\": 41.0, \"count\": 1.0, \"y\": 158.0}, {\"x\": 41.0, \"count\": 1.0, \"y\": 132.0}, {\"x\": 41.0, \"count\": 1.0, \"y\": 179.0}, {\"x\": 41.0, \"count\": 1.0, \"y\": 168.0}, {\"x\": 41.0, \"count\": 1.0, \"y\": 172.0}, {\"x\": 41.0, \"count\": 1.0, \"y\": 153.0}, {\"x\": 41.0, \"count\": 1.0, \"y\": 163.0}, {\"x\": 41.0, \"count\": 1.0, \"y\": 182.0}, {\"x\": 42.0, \"count\": 1.0, \"y\": 178.0}, {\"x\": 42.0, \"count\": 1.0, \"y\": 122.0}, {\"x\": 42.0, \"count\": 1.0, \"y\": 178.0}, {\"x\": 42.0, \"count\": 1.0, \"y\": 194.0}, {\"x\": 42.0, \"count\": 1.0, \"y\": 162.0}, {\"x\": 42.0, \"count\": 1.0, \"y\": 173.0}, {\"x\": 42.0, \"count\": 1.0, \"y\": 125.0}, {\"x\": 42.0, \"count\": 1.0, \"y\": 150.0}, {\"x\": 43.0, \"count\": 1.0, \"y\": 171.0}, {\"x\": 43.0, \"count\": 1.0, \"y\": 120.0}, {\"x\": 43.0, \"count\": 1.0, \"y\": 136.0}, {\"x\": 43.0, \"count\": 1.0, \"y\": 165.0}, {\"x\": 43.0, \"count\": 1.0, \"y\": 162.0}, {\"x\": 43.0, \"count\": 1.0, \"y\": 143.0}, {\"x\": 43.0, \"count\": 1.0, \"y\": 161.0}, {\"x\": 43.0, \"count\": 1.0, \"y\": 181.0}, {\"x\": 44.0, \"count\": 1.0, \"y\": 173.0}, {\"x\": 44.0, \"count\": 1.0, \"y\": 179.0}, {\"x\": 44.0, \"count\": 1.0, \"y\": 153.0}, {\"x\": 44.0, \"count\": 1.0, \"y\": 188.0}, {\"x\": 44.0, \"count\": 1.0, \"y\": 177.0}, {\"x\": 44.0, \"count\": 1.0, \"y\": 180.0}, {\"x\": 44.0, \"count\": 1.0, \"y\": 175.0}, {\"x\": 44.0, \"count\": 1.0, \"y\": 170.0}, {\"x\": 44.0, \"count\": 1.0, \"y\": 149.0}, {\"x\": 44.0, \"count\": 1.0, \"y\": 169.0}, {\"x\": 44.0, \"count\": 1.0, \"y\": 144.0}, {\"x\": 45.0, \"count\": 1.0, \"y\": 148.0}, {\"x\": 45.0, \"count\": 1.0, \"y\": 185.0}, {\"x\": 45.0, \"count\": 1.0, \"y\": 175.0}, {\"x\": 45.0, \"count\": 1.0, \"y\": 170.0}, {\"x\": 45.0, \"count\": 1.0, \"y\": 138.0}, {\"x\": 45.0, \"count\": 1.0, \"y\": 152.0}, {\"x\": 45.0, \"count\": 1.0, \"y\": 147.0}, {\"x\": 45.0, \"count\": 1.0, \"y\": 132.0}, {\"x\": 46.0, \"count\": 1.0, \"y\": 160.0}, {\"x\": 46.0, \"count\": 1.0, \"y\": 147.0}, {\"x\": 46.0, \"count\": 1.0, \"y\": 156.0}, {\"x\": 46.0, \"count\": 1.0, \"y\": 172.0}, {\"x\": 46.0, \"count\": 1.0, \"y\": 152.0}, {\"x\": 46.0, \"count\": 1.0, \"y\": 144.0}, {\"x\": 46.0, \"count\": 1.0, \"y\": 120.0}, {\"x\": 47.0, \"count\": 1.0, \"y\": 156.0}, {\"x\": 47.0, \"count\": 1.0, \"y\": 152.0}, {\"x\": 47.0, \"count\": 1.0, \"y\": 143.0}, {\"x\": 47.0, \"count\": 1.0, \"y\": 118.0}, {\"x\": 47.0, \"count\": 1.0, \"y\": 179.0}, {\"x\": 48.0, \"count\": 1.0, \"y\": 168.0}, {\"x\": 48.0, \"count\": 1.0, \"y\": 139.0}, {\"x\": 48.0, \"count\": 1.0, \"y\": 180.0}, {\"x\": 48.0, \"count\": 1.0, \"y\": 186.0}, {\"x\": 48.0, \"count\": 1.0, \"y\": 150.0}, {\"x\": 48.0, \"count\": 1.0, \"y\": 175.0}, {\"x\": 48.0, \"count\": 1.0, \"y\": 166.0}, {\"x\": 49.0, \"count\": 1.0, \"y\": 171.0}, {\"x\": 49.0, \"count\": 1.0, \"y\": 139.0}, {\"x\": 49.0, \"count\": 1.0, \"y\": 126.0}, {\"x\": 49.0, \"count\": 1.0, \"y\": 162.0}, {\"x\": 49.0, \"count\": 1.0, \"y\": 163.0}, {\"x\": 50.0, \"count\": 1.0, \"y\": 158.0}, {\"x\": 50.0, \"count\": 1.0, \"y\": 128.0}, {\"x\": 50.0, \"count\": 1.0, \"y\": 163.0}, {\"x\": 50.0, \"count\": 1.0, \"y\": 163.0}, {\"x\": 50.0, \"count\": 1.0, \"y\": 162.0}, {\"x\": 50.0, \"count\": 1.0, \"y\": 159.0}, {\"x\": 50.0, \"count\": 1.0, \"y\": 126.0}, {\"x\": 51.0, \"count\": 1.0, \"y\": 123.0}, {\"x\": 51.0, \"count\": 1.0, \"y\": 125.0}, {\"x\": 51.0, \"count\": 1.0, \"y\": 142.0}, {\"x\": 51.0, \"count\": 1.0, \"y\": 142.0}, {\"x\": 51.0, \"count\": 1.0, \"y\": 149.0}, {\"x\": 51.0, \"count\": 1.0, \"y\": 143.0}, {\"x\": 51.0, \"count\": 1.0, \"y\": 154.0}, {\"x\": 51.0, \"count\": 1.0, \"y\": 186.0}, {\"x\": 51.0, \"count\": 1.0, \"y\": 166.0}, {\"x\": 51.0, \"count\": 1.0, \"y\": 173.0}, {\"x\": 51.0, \"count\": 1.0, \"y\": 122.0}, {\"x\": 51.0, \"count\": 1.0, \"y\": 157.0}, {\"x\": 52.0, \"count\": 1.0, \"y\": 162.0}, {\"x\": 52.0, \"count\": 1.0, \"y\": 172.0}, {\"x\": 52.0, \"count\": 1.0, \"y\": 161.0}, {\"x\": 52.0, \"count\": 1.0, \"y\": 158.0}, {\"x\": 52.0, \"count\": 1.0, \"y\": 190.0}, {\"x\": 52.0, \"count\": 1.0, \"y\": 184.0}, {\"x\": 52.0, \"count\": 1.0, \"y\": 178.0}, {\"x\": 52.0, \"count\": 1.0, \"y\": 169.0}, {\"x\": 52.0, \"count\": 1.0, \"y\": 147.0}, {\"x\": 52.0, \"count\": 1.0, \"y\": 160.0}, {\"x\": 52.0, \"count\": 1.0, \"y\": 169.0}, {\"x\": 52.0, \"count\": 1.0, \"y\": 168.0}, {\"x\": 52.0, \"count\": 1.0, \"y\": 156.0}, {\"x\": 53.0, \"count\": 1.0, \"y\": 155.0}, {\"x\": 53.0, \"count\": 1.0, \"y\": 152.0}, {\"x\": 53.0, \"count\": 1.0, \"y\": 143.0}, {\"x\": 53.0, \"count\": 1.0, \"y\": 115.0}, {\"x\": 53.0, \"count\": 1.0, \"y\": 160.0}, {\"x\": 53.0, \"count\": 1.0, \"y\": 111.0}, {\"x\": 53.0, \"count\": 1.0, \"y\": 173.0}, {\"x\": 53.0, \"count\": 1.0, \"y\": 95.0}, {\"x\": 54.0, \"count\": 1.0, \"y\": 160.0}, {\"x\": 54.0, \"count\": 1.0, \"y\": 109.0}, {\"x\": 54.0, \"count\": 1.0, \"y\": 152.0}, {\"x\": 54.0, \"count\": 1.0, \"y\": 170.0}, {\"x\": 54.0, \"count\": 1.0, \"y\": 113.0}, {\"x\": 54.0, \"count\": 1.0, \"y\": 165.0}, {\"x\": 54.0, \"count\": 1.0, \"y\": 156.0}, {\"x\": 54.0, \"count\": 1.0, \"y\": 126.0}, {\"x\": 54.0, \"count\": 1.0, \"y\": 147.0}, {\"x\": 54.0, \"count\": 1.0, \"y\": 158.0}, {\"x\": 54.0, \"count\": 1.0, \"y\": 159.0}, {\"x\": 54.0, \"count\": 1.0, \"y\": 195.0}, {\"x\": 54.0, \"count\": 1.0, \"y\": 167.0}, {\"x\": 54.0, \"count\": 1.0, \"y\": 108.0}, {\"x\": 54.0, \"count\": 1.0, \"y\": 163.0}, {\"x\": 54.0, \"count\": 1.0, \"y\": 116.0}, {\"x\": 55.0, \"count\": 1.0, \"y\": 132.0}, {\"x\": 55.0, \"count\": 1.0, \"y\": 111.0}, {\"x\": 55.0, \"count\": 1.0, \"y\": 161.0}, {\"x\": 55.0, \"count\": 1.0, \"y\": 145.0}, {\"x\": 55.0, \"count\": 1.0, \"y\": 155.0}, {\"x\": 55.0, \"count\": 1.0, \"y\": 117.0}, {\"x\": 55.0, \"count\": 1.0, \"y\": 130.0}, {\"x\": 55.0, \"count\": 1.0, \"y\": 166.0}, {\"x\": 56.0, \"count\": 1.0, \"y\": 178.0}, {\"x\": 56.0, \"count\": 1.0, \"y\": 153.0}, {\"x\": 56.0, \"count\": 1.0, \"y\": 142.0}, {\"x\": 56.0, \"count\": 1.0, \"y\": 144.0}, {\"x\": 56.0, \"count\": 1.0, \"y\": 133.0}, {\"x\": 56.0, \"count\": 1.0, \"y\": 105.0}, {\"x\": 56.0, \"count\": 1.0, \"y\": 150.0}, {\"x\": 56.0, \"count\": 1.0, \"y\": 162.0}, {\"x\": 56.0, \"count\": 1.0, \"y\": 103.0}, {\"x\": 56.0, \"count\": 1.0, \"y\": 163.0}, {\"x\": 56.0, \"count\": 1.0, \"y\": 169.0}, {\"x\": 57.0, \"count\": 1.0, \"y\": 163.0}, {\"x\": 57.0, \"count\": 1.0, \"y\": 148.0}, {\"x\": 57.0, \"count\": 1.0, \"y\": 174.0}, {\"x\": 57.0, \"count\": 1.0, \"y\": 112.0}, {\"x\": 57.0, \"count\": 1.0, \"y\": 159.0}, {\"x\": 57.0, \"count\": 1.0, \"y\": 150.0}, {\"x\": 57.0, \"count\": 1.0, \"y\": 124.0}, {\"x\": 57.0, \"count\": 1.0, \"y\": 168.0}, {\"x\": 57.0, \"count\": 1.0, \"y\": 88.0}, {\"x\": 57.0, \"count\": 1.0, \"y\": 173.0}, {\"x\": 57.0, \"count\": 1.0, \"y\": 126.0}, {\"x\": 57.0, \"count\": 1.0, \"y\": 141.0}, {\"x\": 57.0, \"count\": 1.0, \"y\": 164.0}, {\"x\": 57.0, \"count\": 1.0, \"y\": 143.0}, {\"x\": 57.0, \"count\": 1.0, \"y\": 123.0}, {\"x\": 57.0, \"count\": 1.0, \"y\": 115.0}, {\"x\": 57.0, \"count\": 1.0, \"y\": 174.0}, {\"x\": 58.0, \"count\": 1.0, \"y\": 162.0}, {\"x\": 58.0, \"count\": 1.0, \"y\": 160.0}, {\"x\": 58.0, \"count\": 1.0, \"y\": 173.0}, {\"x\": 58.0, \"count\": 1.0, \"y\": 172.0}, {\"x\": 58.0, \"count\": 1.0, \"y\": 165.0}, {\"x\": 58.0, \"count\": 1.0, \"y\": 131.0}, {\"x\": 58.0, \"count\": 1.0, \"y\": 111.0}, {\"x\": 58.0, \"count\": 1.0, \"y\": 165.0}, {\"x\": 58.0, \"count\": 1.0, \"y\": 154.0}, {\"x\": 58.0, \"count\": 1.0, \"y\": 171.0}, {\"x\": 58.0, \"count\": 1.0, \"y\": 122.0}, {\"x\": 58.0, \"count\": 1.0, \"y\": 130.0}, {\"x\": 58.0, \"count\": 1.0, \"y\": 156.0}, {\"x\": 58.0, \"count\": 1.0, \"y\": 105.0}, {\"x\": 58.0, \"count\": 1.0, \"y\": 152.0}, {\"x\": 58.0, \"count\": 1.0, \"y\": 131.0}, {\"x\": 58.0, \"count\": 1.0, \"y\": 140.0}, {\"x\": 58.0, \"count\": 1.0, \"y\": 146.0}, {\"x\": 58.0, \"count\": 1.0, \"y\": 144.0}, {\"x\": 59.0, \"count\": 1.0, \"y\": 161.0}, {\"x\": 59.0, \"count\": 1.0, \"y\": 157.0}, {\"x\": 59.0, \"count\": 1.0, \"y\": 140.0}, {\"x\": 59.0, \"count\": 1.0, \"y\": 142.0}, {\"x\": 59.0, \"count\": 1.0, \"y\": 162.0}, {\"x\": 59.0, \"count\": 1.0, \"y\": 164.0}, {\"x\": 59.0, \"count\": 1.0, \"y\": 159.0}, {\"x\": 59.0, \"count\": 1.0, \"y\": 143.0}, {\"x\": 59.0, \"count\": 1.0, \"y\": 145.0}, {\"x\": 59.0, \"count\": 1.0, \"y\": 125.0}, {\"x\": 59.0, \"count\": 1.0, \"y\": 182.0}, {\"x\": 59.0, \"count\": 1.0, \"y\": 134.0}, {\"x\": 59.0, \"count\": 1.0, \"y\": 162.0}, {\"x\": 59.0, \"count\": 1.0, \"y\": 90.0}, {\"x\": 60.0, \"count\": 1.0, \"y\": 132.0}, {\"x\": 60.0, \"count\": 1.0, \"y\": 160.0}, {\"x\": 60.0, \"count\": 1.0, \"y\": 144.0}, {\"x\": 60.0, \"count\": 1.0, \"y\": 142.0}, {\"x\": 60.0, \"count\": 1.0, \"y\": 155.0}, {\"x\": 60.0, \"count\": 1.0, \"y\": 141.0}, {\"x\": 60.0, \"count\": 1.0, \"y\": 157.0}, {\"x\": 60.0, \"count\": 1.0, \"y\": 160.0}, {\"x\": 60.0, \"count\": 1.0, \"y\": 170.0}, {\"x\": 60.0, \"count\": 1.0, \"y\": 161.0}, {\"x\": 60.0, \"count\": 1.0, \"y\": 96.0}, {\"x\": 60.0, \"count\": 1.0, \"y\": 171.0}, {\"x\": 61.0, \"count\": 1.0, \"y\": 137.0}, {\"x\": 61.0, \"count\": 1.0, \"y\": 169.0}, {\"x\": 61.0, \"count\": 1.0, \"y\": 140.0}, {\"x\": 61.0, \"count\": 1.0, \"y\": 146.0}, {\"x\": 61.0, \"count\": 1.0, \"y\": 145.0}, {\"x\": 61.0, \"count\": 1.0, \"y\": 125.0}, {\"x\": 61.0, \"count\": 1.0, \"y\": 138.0}, {\"x\": 61.0, \"count\": 1.0, \"y\": 161.0}, {\"x\": 62.0, \"count\": 1.0, \"y\": 160.0}, {\"x\": 62.0, \"count\": 1.0, \"y\": 99.0}, {\"x\": 62.0, \"count\": 1.0, \"y\": 145.0}, {\"x\": 62.0, \"count\": 1.0, \"y\": 146.0}, {\"x\": 62.0, \"count\": 1.0, \"y\": 97.0}, {\"x\": 62.0, \"count\": 1.0, \"y\": 163.0}, {\"x\": 62.0, \"count\": 1.0, \"y\": 103.0}, {\"x\": 62.0, \"count\": 1.0, \"y\": 157.0}, {\"x\": 62.0, \"count\": 1.0, \"y\": 106.0}, {\"x\": 62.0, \"count\": 1.0, \"y\": 154.0}, {\"x\": 62.0, \"count\": 1.0, \"y\": 140.0}, {\"x\": 63.0, \"count\": 1.0, \"y\": 150.0}, {\"x\": 63.0, \"count\": 1.0, \"y\": 147.0}, {\"x\": 63.0, \"count\": 1.0, \"y\": 172.0}, {\"x\": 63.0, \"count\": 1.0, \"y\": 132.0}, {\"x\": 63.0, \"count\": 1.0, \"y\": 154.0}, {\"x\": 63.0, \"count\": 1.0, \"y\": 179.0}, {\"x\": 63.0, \"count\": 1.0, \"y\": 169.0}, {\"x\": 63.0, \"count\": 1.0, \"y\": 144.0}, {\"x\": 63.0, \"count\": 1.0, \"y\": 136.0}, {\"x\": 64.0, \"count\": 1.0, \"y\": 144.0}, {\"x\": 64.0, \"count\": 1.0, \"y\": 158.0}, {\"x\": 64.0, \"count\": 1.0, \"y\": 131.0}, {\"x\": 64.0, \"count\": 1.0, \"y\": 96.0}, {\"x\": 64.0, \"count\": 1.0, \"y\": 132.0}, {\"x\": 64.0, \"count\": 1.0, \"y\": 154.0}, {\"x\": 64.0, \"count\": 1.0, \"y\": 133.0}, {\"x\": 64.0, \"count\": 1.0, \"y\": 122.0}, {\"x\": 64.0, \"count\": 1.0, \"y\": 105.0}, {\"x\": 64.0, \"count\": 1.0, \"y\": 155.0}, {\"x\": 65.0, \"count\": 1.0, \"y\": 114.0}, {\"x\": 65.0, \"count\": 1.0, \"y\": 157.0}, {\"x\": 65.0, \"count\": 1.0, \"y\": 140.0}, {\"x\": 65.0, \"count\": 1.0, \"y\": 148.0}, {\"x\": 65.0, \"count\": 1.0, \"y\": 158.0}, {\"x\": 65.0, \"count\": 1.0, \"y\": 151.0}, {\"x\": 65.0, \"count\": 1.0, \"y\": 127.0}, {\"x\": 65.0, \"count\": 1.0, \"y\": 174.0}, {\"x\": 66.0, \"count\": 1.0, \"y\": 114.0}, {\"x\": 66.0, \"count\": 1.0, \"y\": 151.0}, {\"x\": 66.0, \"count\": 1.0, \"y\": 120.0}, {\"x\": 66.0, \"count\": 1.0, \"y\": 165.0}, {\"x\": 66.0, \"count\": 1.0, \"y\": 132.0}, {\"x\": 66.0, \"count\": 1.0, \"y\": 138.0}, {\"x\": 66.0, \"count\": 1.0, \"y\": 152.0}, {\"x\": 67.0, \"count\": 1.0, \"y\": 108.0}, {\"x\": 67.0, \"count\": 1.0, \"y\": 129.0}, {\"x\": 67.0, \"count\": 1.0, \"y\": 163.0}, {\"x\": 67.0, \"count\": 1.0, \"y\": 160.0}, {\"x\": 67.0, \"count\": 1.0, \"y\": 125.0}, {\"x\": 67.0, \"count\": 1.0, \"y\": 172.0}, {\"x\": 67.0, \"count\": 1.0, \"y\": 71.0}, {\"x\": 67.0, \"count\": 1.0, \"y\": 142.0}, {\"x\": 67.0, \"count\": 1.0, \"y\": 150.0}, {\"x\": 68.0, \"count\": 1.0, \"y\": 150.0}, {\"x\": 68.0, \"count\": 1.0, \"y\": 151.0}, {\"x\": 68.0, \"count\": 1.0, \"y\": 115.0}, {\"x\": 68.0, \"count\": 1.0, \"y\": 141.0}, {\"x\": 69.0, \"count\": 1.0, \"y\": 151.0}, {\"x\": 69.0, \"count\": 1.0, \"y\": 146.0}, {\"x\": 69.0, \"count\": 1.0, \"y\": 131.0}, {\"x\": 70.0, \"count\": 1.0, \"y\": 125.0}, {\"x\": 70.0, \"count\": 1.0, \"y\": 109.0}, {\"x\": 70.0, \"count\": 1.0, \"y\": 112.0}, {\"x\": 70.0, \"count\": 1.0, \"y\": 143.0}, {\"x\": 71.0, \"count\": 1.0, \"y\": 162.0}, {\"x\": 71.0, \"count\": 1.0, \"y\": 130.0}, {\"x\": 71.0, \"count\": 1.0, \"y\": 125.0}, {\"x\": 74.0, \"count\": 1.0, \"y\": 121.0}, {\"x\": 76.0, \"count\": 1.0, \"y\": 116.0}, {\"x\": 77.0, \"count\": 1.0, \"y\": 162.0}]}, \"mark\": \"point\", \"encoding\": {\"x\": {\"field\": \"x\", \"type\": \"quantitative\", \"axis\": {\"title\": \"age\"}}, \"y\": {\"field\": \"y\", \"type\": \"quantitative\", \"axis\": {\"title\": \"thalach\"}}}};\n",
       "const opt = {};\n",
       "const type = \"vega-lite\";\n",
       "const id = \"feee5fc8-ca90-49fc-bfcf-f5cb30bc7b74\";\n",
       "\n",
       "const output_area = this;\n",
       "\n",
       "require([\"nbextensions/jupyter-vega/index\"], function(vega) {\n",
       "  const target = document.createElement(\"div\");\n",
       "  target.id = id;\n",
       "  target.className = \"vega-embed\";\n",
       "\n",
       "  const style = document.createElement(\"style\");\n",
       "  style.textContent = [\n",
       "    \".vega-embed .error p {\",\n",
       "    \"  color: firebrick;\",\n",
       "    \"  font-size: 14px;\",\n",
       "    \"}\",\n",
       "  ].join(\"\\\\n\");\n",
       "\n",
       "  // element is a jQuery wrapped DOM element inside the output area\n",
       "  // see http://ipython.readthedocs.io/en/stable/api/generated/\\\n",
       "  // IPython.display.html#IPython.display.Javascript.__init__\n",
       "  element[0].appendChild(target);\n",
       "  element[0].appendChild(style);\n",
       "\n",
       "  vega.render(\"#\" + id, spec, type, opt, output_area);\n",
       "}, function (err) {\n",
       "  if (err.requireType !== \"scripterror\") {\n",
       "    throw(err);\n",
       "  }\n",
       "});\n"
      ],
      "text/plain": [
       "<vega.vegalite.VegaLite at 0x11aac7a10>"
      ]
     },
     "execution_count": 12,
     "metadata": {
      "jupyter-vega": "#feee5fc8-ca90-49fc-bfcf-f5cb30bc7b74"
     },
     "output_type": "execute_result"
    },
    {
     "data": {
      "image/png": "[encoded data removed]"
     },
     "metadata": {
      "jupyter-vega": "#feee5fc8-ca90-49fc-bfcf-f5cb30bc7b74"
     },
     "output_type": "display_data"
    }
   ],
   "source": [
    "VegaLite(scatterplot)"
   ]
  },
  {
   "cell_type": "markdown",
   "metadata": {},
   "source": [
    "### 3. Split Data into Training and Test Data Sets"
   ]
  },
  {
   "cell_type": "code",
   "execution_count": 13,
   "metadata": {},
   "outputs": [],
   "source": [
    "split = dai.make_dataset_split_sync(dataset_key=full_data_key, \n",
    "                                    output_name1=\"heart_train\", \n",
    "                                    output_name2=\"heart_test\", \n",
    "                                    target=\"target\", \n",
    "                                    fold_col=None, \n",
    "                                    time_col=None, \n",
    "                                    ratio=0.7, \n",
    "                                    seed=1234)"
   ]
  },
  {
   "cell_type": "code",
   "execution_count": 14,
   "metadata": {},
   "outputs": [
    {
     "name": "stdout",
     "output_type": "stream",
     "text": [
      "['2c1255ac-7f59-11ea-851a-0242ac110002', '2c13eb92-7f59-11ea-851a-0242ac110002']\n"
     ]
    }
   ],
   "source": [
    "print(split)\n",
    "\n",
    "train_key = split[0]\n",
    "test_key = split[1]"
   ]
  },
  {
   "cell_type": "code",
   "execution_count": 15,
   "metadata": {},
   "outputs": [
    {
     "name": "stdout",
     "output_type": "stream",
     "text": [
      "2c1255ac-7f59-11ea-851a-0242ac110002/heart_train.1586983155.8528652.csv\n",
      "./heart_train.1586983155.8528652.csv\n",
      "2c13eb92-7f59-11ea-851a-0242ac110002/heart_test.1586983155.8688304.csv\n",
      "./heart_test.1586983155.8688304.csv\n"
     ]
    }
   ],
   "source": [
    "splits = list()\n",
    "for i in split:\n",
    "    \n",
    "    # Make a csv file that can be read in pandas easily\n",
    "    job = dai.create_csv_from_dataset(i)\n",
    "    finished_job = dai.get_create_csv_job(job)\n",
    "    \n",
    "    \n",
    "    # path needs to match expectation of _download\n",
    "    path = re.sub(\"^/files/\", \"\", finished_job.url)\n",
    "    print(path)\n",
    "    \n",
    "    local_path = dai.download(path, '.')\n",
    "    print(local_path)\n",
    "    \n",
    "    df = pd.read_csv(local_path)\n",
    "    df.head()\n",
    "    splits.append(df)"
   ]
  },
  {
   "cell_type": "code",
   "execution_count": 16,
   "metadata": {},
   "outputs": [
    {
     "data": {
      "text/html": [
       "<div>\n",
       "<style scoped>\n",
       "    .dataframe tbody tr th:only-of-type {\n",
       "        vertical-align: middle;\n",
       "    }\n",
       "\n",
       "    .dataframe tbody tr th {\n",
       "        vertical-align: top;\n",
       "    }\n",
       "\n",
       "    .dataframe thead th {\n",
       "        text-align: right;\n",
       "    }\n",
       "</style>\n",
       "<table border=\"1\" class=\"dataframe\">\n",
       "  <thead>\n",
       "    <tr style=\"text-align: right;\">\n",
       "      <th></th>\n",
       "      <th>age</th>\n",
       "      <th>trestbps</th>\n",
       "      <th>chol</th>\n",
       "      <th>fbs</th>\n",
       "      <th>thalach</th>\n",
       "      <th>exang</th>\n",
       "      <th>oldpeak</th>\n",
       "      <th>ca</th>\n",
       "      <th>target</th>\n",
       "      <th>male</th>\n",
       "      <th>cp_asymptomatic</th>\n",
       "      <th>cp_atypticalAngina</th>\n",
       "      <th>cp_typicalAngina</th>\n",
       "      <th>restECG_LVH</th>\n",
       "      <th>restECG_normal</th>\n",
       "      <th>slope_flat</th>\n",
       "      <th>slope_upsloping</th>\n",
       "      <th>thal_fixedDefect</th>\n",
       "      <th>thal_reversableDefect</th>\n",
       "    </tr>\n",
       "  </thead>\n",
       "  <tbody>\n",
       "    <tr>\n",
       "      <th>0</th>\n",
       "      <td>63</td>\n",
       "      <td>108</td>\n",
       "      <td>269</td>\n",
       "      <td>0</td>\n",
       "      <td>169</td>\n",
       "      <td>1</td>\n",
       "      <td>1.8</td>\n",
       "      <td>4.0</td>\n",
       "      <td>1</td>\n",
       "      <td>0</td>\n",
       "      <td>1</td>\n",
       "      <td>0</td>\n",
       "      <td>0</td>\n",
       "      <td>0</td>\n",
       "      <td>1</td>\n",
       "      <td>1</td>\n",
       "      <td>0</td>\n",
       "      <td>0.0</td>\n",
       "      <td>0.0</td>\n",
       "    </tr>\n",
       "    <tr>\n",
       "      <th>1</th>\n",
       "      <td>40</td>\n",
       "      <td>110</td>\n",
       "      <td>167</td>\n",
       "      <td>0</td>\n",
       "      <td>114</td>\n",
       "      <td>1</td>\n",
       "      <td>2.0</td>\n",
       "      <td>2.0</td>\n",
       "      <td>1</td>\n",
       "      <td>1</td>\n",
       "      <td>1</td>\n",
       "      <td>0</td>\n",
       "      <td>0</td>\n",
       "      <td>1</td>\n",
       "      <td>0</td>\n",
       "      <td>1</td>\n",
       "      <td>0</td>\n",
       "      <td>0.0</td>\n",
       "      <td>1.0</td>\n",
       "    </tr>\n",
       "    <tr>\n",
       "      <th>2</th>\n",
       "      <td>51</td>\n",
       "      <td>140</td>\n",
       "      <td>308</td>\n",
       "      <td>0</td>\n",
       "      <td>142</td>\n",
       "      <td>0</td>\n",
       "      <td>1.5</td>\n",
       "      <td>3.0</td>\n",
       "      <td>0</td>\n",
       "      <td>0</td>\n",
       "      <td>0</td>\n",
       "      <td>0</td>\n",
       "      <td>0</td>\n",
       "      <td>1</td>\n",
       "      <td>0</td>\n",
       "      <td>0</td>\n",
       "      <td>1</td>\n",
       "      <td>0.0</td>\n",
       "      <td>0.0</td>\n",
       "    </tr>\n",
       "    <tr>\n",
       "      <th>3</th>\n",
       "      <td>46</td>\n",
       "      <td>150</td>\n",
       "      <td>231</td>\n",
       "      <td>0</td>\n",
       "      <td>147</td>\n",
       "      <td>0</td>\n",
       "      <td>3.6</td>\n",
       "      <td>2.0</td>\n",
       "      <td>1</td>\n",
       "      <td>1</td>\n",
       "      <td>0</td>\n",
       "      <td>0</td>\n",
       "      <td>0</td>\n",
       "      <td>0</td>\n",
       "      <td>1</td>\n",
       "      <td>1</td>\n",
       "      <td>0</td>\n",
       "      <td>0.0</td>\n",
       "      <td>0.0</td>\n",
       "    </tr>\n",
       "    <tr>\n",
       "      <th>4</th>\n",
       "      <td>66</td>\n",
       "      <td>150</td>\n",
       "      <td>226</td>\n",
       "      <td>0</td>\n",
       "      <td>114</td>\n",
       "      <td>0</td>\n",
       "      <td>2.6</td>\n",
       "      <td>2.0</td>\n",
       "      <td>0</td>\n",
       "      <td>0</td>\n",
       "      <td>0</td>\n",
       "      <td>0</td>\n",
       "      <td>1</td>\n",
       "      <td>0</td>\n",
       "      <td>1</td>\n",
       "      <td>0</td>\n",
       "      <td>0</td>\n",
       "      <td>0.0</td>\n",
       "      <td>0.0</td>\n",
       "    </tr>\n",
       "  </tbody>\n",
       "</table>\n",
       "</div>"
      ],
      "text/plain": [
       "   age  trestbps  chol  fbs  thalach  exang  oldpeak   ca  target  male  \\\n",
       "0   63       108   269    0      169      1      1.8  4.0       1     0   \n",
       "1   40       110   167    0      114      1      2.0  2.0       1     1   \n",
       "2   51       140   308    0      142      0      1.5  3.0       0     0   \n",
       "3   46       150   231    0      147      0      3.6  2.0       1     1   \n",
       "4   66       150   226    0      114      0      2.6  2.0       0     0   \n",
       "\n",
       "   cp_asymptomatic  cp_atypticalAngina  cp_typicalAngina  restECG_LVH  \\\n",
       "0                1                   0                 0            0   \n",
       "1                1                   0                 0            1   \n",
       "2                0                   0                 0            1   \n",
       "3                0                   0                 0            0   \n",
       "4                0                   0                 1            0   \n",
       "\n",
       "   restECG_normal  slope_flat  slope_upsloping  thal_fixedDefect  \\\n",
       "0               1           1                0               0.0   \n",
       "1               0           1                0               0.0   \n",
       "2               0           0                1               0.0   \n",
       "3               1           1                0               0.0   \n",
       "4               1           0                0               0.0   \n",
       "\n",
       "   thal_reversableDefect  \n",
       "0                    0.0  \n",
       "1                    1.0  \n",
       "2                    0.0  \n",
       "3                    0.0  \n",
       "4                    0.0  "
      ]
     },
     "metadata": {},
     "output_type": "display_data"
    },
    {
     "data": {
      "text/html": [
       "<div>\n",
       "<style scoped>\n",
       "    .dataframe tbody tr th:only-of-type {\n",
       "        vertical-align: middle;\n",
       "    }\n",
       "\n",
       "    .dataframe tbody tr th {\n",
       "        vertical-align: top;\n",
       "    }\n",
       "\n",
       "    .dataframe thead th {\n",
       "        text-align: right;\n",
       "    }\n",
       "</style>\n",
       "<table border=\"1\" class=\"dataframe\">\n",
       "  <thead>\n",
       "    <tr style=\"text-align: right;\">\n",
       "      <th></th>\n",
       "      <th>age</th>\n",
       "      <th>trestbps</th>\n",
       "      <th>chol</th>\n",
       "      <th>fbs</th>\n",
       "      <th>thalach</th>\n",
       "      <th>exang</th>\n",
       "      <th>oldpeak</th>\n",
       "      <th>ca</th>\n",
       "      <th>target</th>\n",
       "      <th>male</th>\n",
       "      <th>cp_asymptomatic</th>\n",
       "      <th>cp_atypticalAngina</th>\n",
       "      <th>cp_typicalAngina</th>\n",
       "      <th>restECG_LVH</th>\n",
       "      <th>restECG_normal</th>\n",
       "      <th>slope_flat</th>\n",
       "      <th>slope_upsloping</th>\n",
       "      <th>thal_fixedDefect</th>\n",
       "      <th>thal_reversableDefect</th>\n",
       "    </tr>\n",
       "  </thead>\n",
       "  <tbody>\n",
       "    <tr>\n",
       "      <th>0</th>\n",
       "      <td>61</td>\n",
       "      <td>150</td>\n",
       "      <td>243</td>\n",
       "      <td>1</td>\n",
       "      <td>137</td>\n",
       "      <td>1</td>\n",
       "      <td>1.0</td>\n",
       "      <td>2.0</td>\n",
       "      <td>0</td>\n",
       "      <td>1</td>\n",
       "      <td>0</td>\n",
       "      <td>0</td>\n",
       "      <td>0</td>\n",
       "      <td>0</td>\n",
       "      <td>1</td>\n",
       "      <td>1</td>\n",
       "      <td>0</td>\n",
       "      <td>0</td>\n",
       "      <td>0</td>\n",
       "    </tr>\n",
       "    <tr>\n",
       "      <th>1</th>\n",
       "      <td>54</td>\n",
       "      <td>150</td>\n",
       "      <td>232</td>\n",
       "      <td>0</td>\n",
       "      <td>165</td>\n",
       "      <td>0</td>\n",
       "      <td>1.6</td>\n",
       "      <td>2.0</td>\n",
       "      <td>0</td>\n",
       "      <td>1</td>\n",
       "      <td>0</td>\n",
       "      <td>0</td>\n",
       "      <td>0</td>\n",
       "      <td>1</td>\n",
       "      <td>0</td>\n",
       "      <td>0</td>\n",
       "      <td>1</td>\n",
       "      <td>0</td>\n",
       "      <td>1</td>\n",
       "    </tr>\n",
       "    <tr>\n",
       "      <th>2</th>\n",
       "      <td>46</td>\n",
       "      <td>120</td>\n",
       "      <td>249</td>\n",
       "      <td>0</td>\n",
       "      <td>144</td>\n",
       "      <td>0</td>\n",
       "      <td>0.8</td>\n",
       "      <td>2.0</td>\n",
       "      <td>1</td>\n",
       "      <td>1</td>\n",
       "      <td>1</td>\n",
       "      <td>0</td>\n",
       "      <td>0</td>\n",
       "      <td>1</td>\n",
       "      <td>0</td>\n",
       "      <td>0</td>\n",
       "      <td>1</td>\n",
       "      <td>0</td>\n",
       "      <td>1</td>\n",
       "    </tr>\n",
       "    <tr>\n",
       "      <th>3</th>\n",
       "      <td>44</td>\n",
       "      <td>110</td>\n",
       "      <td>197</td>\n",
       "      <td>0</td>\n",
       "      <td>177</td>\n",
       "      <td>0</td>\n",
       "      <td>0.0</td>\n",
       "      <td>3.0</td>\n",
       "      <td>1</td>\n",
       "      <td>1</td>\n",
       "      <td>1</td>\n",
       "      <td>0</td>\n",
       "      <td>0</td>\n",
       "      <td>1</td>\n",
       "      <td>0</td>\n",
       "      <td>0</td>\n",
       "      <td>1</td>\n",
       "      <td>0</td>\n",
       "      <td>0</td>\n",
       "    </tr>\n",
       "    <tr>\n",
       "      <th>4</th>\n",
       "      <td>48</td>\n",
       "      <td>130</td>\n",
       "      <td>245</td>\n",
       "      <td>0</td>\n",
       "      <td>180</td>\n",
       "      <td>0</td>\n",
       "      <td>0.2</td>\n",
       "      <td>2.0</td>\n",
       "      <td>0</td>\n",
       "      <td>1</td>\n",
       "      <td>0</td>\n",
       "      <td>1</td>\n",
       "      <td>0</td>\n",
       "      <td>1</td>\n",
       "      <td>0</td>\n",
       "      <td>1</td>\n",
       "      <td>0</td>\n",
       "      <td>0</td>\n",
       "      <td>0</td>\n",
       "    </tr>\n",
       "  </tbody>\n",
       "</table>\n",
       "</div>"
      ],
      "text/plain": [
       "   age  trestbps  chol  fbs  thalach  exang  oldpeak   ca  target  male  \\\n",
       "0   61       150   243    1      137      1      1.0  2.0       0     1   \n",
       "1   54       150   232    0      165      0      1.6  2.0       0     1   \n",
       "2   46       120   249    0      144      0      0.8  2.0       1     1   \n",
       "3   44       110   197    0      177      0      0.0  3.0       1     1   \n",
       "4   48       130   245    0      180      0      0.2  2.0       0     1   \n",
       "\n",
       "   cp_asymptomatic  cp_atypticalAngina  cp_typicalAngina  restECG_LVH  \\\n",
       "0                0                   0                 0            0   \n",
       "1                0                   0                 0            1   \n",
       "2                1                   0                 0            1   \n",
       "3                1                   0                 0            1   \n",
       "4                0                   1                 0            1   \n",
       "\n",
       "   restECG_normal  slope_flat  slope_upsloping  thal_fixedDefect  \\\n",
       "0               1           1                0                 0   \n",
       "1               0           0                1                 0   \n",
       "2               0           0                1                 0   \n",
       "3               0           0                1                 0   \n",
       "4               0           1                0                 0   \n",
       "\n",
       "   thal_reversableDefect  \n",
       "0                      0  \n",
       "1                      1  \n",
       "2                      1  \n",
       "3                      0  \n",
       "4                      0  "
      ]
     },
     "metadata": {},
     "output_type": "display_data"
    }
   ],
   "source": [
    "train = splits[0]\n",
    "test = splits[1]\n",
    "\n",
    "display(train.head())\n",
    "display(test.head())"
   ]
  },
  {
   "cell_type": "markdown",
   "metadata": {},
   "source": [
    "#### Equivalent Steps in Driverless: Creating Train & Test Data Files\n",
    "![Equivalent Steps in Driverless: Creating Train & Test Data Files](h2oai_client_images/heart_disease_testtrain.png)"
   ]
  },
  {
   "cell_type": "markdown",
   "metadata": {
    "collapsed": true
   },
   "source": [
    "### 4. Set Experiment Parameters\n",
    "\n",
    "We will now set the parameters of our experiment.  Some of the parameters include:\n",
    "\n",
    "* Target Column: The column we are trying to predict.\n",
    "* Dropped Columns: The columns we do not want to use as predictors such as ID columns, columns with data leakage, etc.\n",
    "* Weight Column: The column that indicates the per row observation weights. If `None`, each row will have an observation weight of 1.\n",
    "* Fold Column: The column that indicates the fold. If `None`, the folds will be determined by Driverless AI.\n",
    "* Is Time Series: Whether or not the experiment is a time-series use case.\n",
    "\n",
    "For information on the experiment settings, refer to the [Experiment Settings](http://docs.h2o.ai/driverless-ai/latest-stable/docs/userguide/running-experiment.html#experiment-settings).\n",
    "\n",
    "For this example, we will be predicting **`the presence of heart disease`**.  The parameters that control the experiment process are: `accuracy`, `time`, and `interpretability`.  We can use the `get_experiment_preview_sync` function to get a sense of what will happen during the experiment.  \n",
    "\n",
    "We will start out by seeing what the experiment will look like with `accuracy`, `time`, and `interpretability` all set to 5."
   ]
  },
  {
   "cell_type": "code",
   "execution_count": 17,
   "metadata": {
    "scrolled": true
   },
   "outputs": [
    {
     "data": {
      "text/plain": [
       "['ACCURACY [5/10]:',\n",
       " '- Training data size: *212 rows, 19 cols*',\n",
       " '- Feature evolution: *[Constant, LightGBM, XGBoostGBM]*, *1/3 validation split**, 2 reps*',\n",
       " '- Final pipeline: *Ensemble (6 models), 3-fold CV*',\n",
       " '',\n",
       " 'TIME [5/10]:',\n",
       " '- Feature evolution: *4 individuals*, up to *66 iterations*',\n",
       " '- Early stopping: After *10* iterations of no improvement',\n",
       " '',\n",
       " 'INTERPRETABILITY [5/10]:',\n",
       " '- Feature pre-pruning strategy: None',\n",
       " '- Monotonicity constraints: disabled',\n",
       " '- Feature engineering search space: [CVCatNumEncode, CVTargetEncode, CatOriginal, Cat, ClusterDist, ClusterTE, Frequent, Interactions, NumCatTE, NumToCatTE, NumToCatWoE, Original, TruncSVDNum, WeightOfEvidence]',\n",
       " '',\n",
       " '[Constant, LightGBM, XGBoostGBM] models to train:',\n",
       " '- Model and feature tuning: *32*',\n",
       " '- Feature evolution: *208*',\n",
       " '- Final pipeline: *6*',\n",
       " '',\n",
       " 'Estimated runtime: *minutes*',\n",
       " 'Auto-click Finish/Abort if not done in: *1 day*/*7 days*']"
      ]
     },
     "execution_count": 17,
     "metadata": {},
     "output_type": "execute_result"
    }
   ],
   "source": [
    "exp_preview = dai.get_experiment_preview_sync(dataset_key = train_key, \n",
    "                                              resumed_experiment_id = '',\n",
    "                                              validset_key='', \n",
    "                                              classification=True, \n",
    "                                              dropped_cols = [], \n",
    "                                              target_col='target', \n",
    "                                              is_time_series = False, \n",
    "                                              time_col='',\n",
    "                                              enable_gpus = True, \n",
    "                                              accuracy = 5, \n",
    "                                              time = 5, \n",
    "                                              interpretability = 5, \n",
    "                                              reproducible = False,\n",
    "                                              config_overrides = None)\n",
    "exp_preview"
   ]
  },
  {
   "cell_type": "markdown",
   "metadata": {},
   "source": [
    "With these settings, the Driverless AI experiment will train about 246 models: \n",
    "* 32 for model and feature tuning\n",
    "* 208 for feature evolution\n",
    "* 6 for the final pipeline\n",
    "\n",
    "When we start the experiment, we can either: \n",
    "\n",
    "* specify parameters\n",
    "* use Driverless AI to suggest parameters\n",
    "\n",
    "Driverless AI can suggest the parameters based on the dataset and target column.  Below we will use the **`get_experiment_tuning_suggestion`** to see what settings Driverless AI suggests."
   ]
  },
  {
   "cell_type": "code",
   "execution_count": 18,
   "metadata": {},
   "outputs": [],
   "source": [
    "# let Driverless suggest parameters for experiment\n",
    "params = dai.get_experiment_tuning_suggestion(dataset_key = train_key, \n",
    "                                                target_col = 'target', \n",
    "                                                is_classification = True, \n",
    "                                                is_time_series = False,\n",
    "                                                config_overrides = None,\n",
    "                                                cols_to_drop = [])"
   ]
  },
  {
   "cell_type": "code",
   "execution_count": 19,
   "metadata": {},
   "outputs": [
    {
     "data": {
      "text/plain": [
       "{'dataset': {'key': '2c1255ac-7f59-11ea-851a-0242ac110002',\n",
       "  'display_name': ''},\n",
       " 'resumed_model': {'key': '', 'display_name': ''},\n",
       " 'target_col': 'target',\n",
       " 'weight_col': '',\n",
       " 'fold_col': '',\n",
       " 'orig_time_col': '',\n",
       " 'time_col': '',\n",
       " 'is_classification': True,\n",
       " 'cols_to_drop': [],\n",
       " 'validset': {'key': '', 'display_name': ''},\n",
       " 'testset': {'key': '', 'display_name': ''},\n",
       " 'enable_gpus': True,\n",
       " 'seed': False,\n",
       " 'accuracy': 7,\n",
       " 'time': 2,\n",
       " 'interpretability': 8,\n",
       " 'score_f_name': 'AUC',\n",
       " 'time_groups_columns': [],\n",
       " 'unavailable_columns_at_prediction_time': [],\n",
       " 'time_period_in_seconds': None,\n",
       " 'num_prediction_periods': None,\n",
       " 'num_gap_periods': None,\n",
       " 'is_timeseries': False,\n",
       " 'cols_imputation': [],\n",
       " 'config_overrides': None}"
      ]
     },
     "execution_count": 19,
     "metadata": {},
     "output_type": "execute_result"
    }
   ],
   "source": [
    "params.dump()"
   ]
  },
  {
   "cell_type": "markdown",
   "metadata": {},
   "source": [
    "Driverless AI has found that the best parameters are to set **`accuracy = 7`**, **`time = 2`**, **`interpretability = 8`**. It has selected **`AUC`** as the scorer (this is the default scorer for binomial problems).  "
   ]
  },
  {
   "cell_type": "markdown",
   "metadata": {},
   "source": [
    "#### Equivalent Steps in Driverless: Set the Knobs, Configuration & Launch\n",
    "![Equivalent Steps in Driverless: Set the Knobs](h2oai_client_images/heart_disease_setup.png)"
   ]
  },
  {
   "cell_type": "markdown",
   "metadata": {},
   "source": [
    "### 5. Launch Experiment: Feature Engineering + Final Model Training\n",
    "\n",
    "Launch the experiment using the parameters that Driverless AI suggested along with the testset, scorer, and seed that were added. We can launch the experiment with the suggested parameters or create our own."
   ]
  },
  {
   "cell_type": "code",
   "execution_count": 20,
   "metadata": {},
   "outputs": [],
   "source": [
    "experiment = dai.start_experiment_sync(dataset_key=train_key,\n",
    "                                         testset_key = test_key,\n",
    "                                         target_col='target',\n",
    "                                         experiment_name = \"Heart Default\",\n",
    "                                         is_classification=True,\n",
    "                                         accuracy=7,\n",
    "                                         time=2,\n",
    "                                         interpretability=8,\n",
    "                                         scorer=\"AUC\",\n",
    "                                         enable_gpus=True,\n",
    "                                         seed=1234,\n",
    "                                         cols_to_drop=['ID'])"
   ]
  },
  {
   "cell_type": "markdown",
   "metadata": {},
   "source": [
    "#### Equivalent Steps in Driverless: Launch Experiment\n",
    "\n",
    "![Equivalent Steps in Driverless: Launch Your Experiment](h2oai_client_images/heart_disease_experiment.png)\n",
    "\n",
    "![Equivalent Steps in Driverless: Launch Your Experiment](h2oai_client_images/heart_disease_experimentlist.png)"
   ]
  },
  {
   "cell_type": "markdown",
   "metadata": {},
   "source": [
    "### 6. Examine Experiment\n",
    "\n",
    "View the final model score for the validation and test datasets. When feature engineering is complete, an ensemble model can be built depending on the accuracy setting. The experiment object also contains the score on the validation and test data for this ensemble model.  In this case, the validation score is the score on the training cross-validation predictions."
   ]
  },
  {
   "cell_type": "code",
   "execution_count": 21,
   "metadata": {},
   "outputs": [
    {
     "name": "stdout",
     "output_type": "stream",
     "text": [
      "Final Model Score on Validation Data: 0.923\n",
      "Final Model Score on Test Data: 0.928\n"
     ]
    }
   ],
   "source": [
    "print(\"Final Model Score on Validation Data: \" + str(round(experiment.valid_score, 3)))\n",
    "print(\"Final Model Score on Test Data: \" + str(round(experiment.test_score, 3)))"
   ]
  },
  {
   "cell_type": "markdown",
   "metadata": {},
   "source": [
    "The experiment object also contains the scores calculated for each iteration on bootstrapped samples on the validation data.  In the iteration graph in the UI, we can see the mean performance for the best model (yellow dot) and +/- 1 standard deviation of the best model performance (yellow bar).\n",
    "\n",
    "This information is saved in the experiment object."
   ]
  },
  {
   "cell_type": "code",
   "execution_count": 22,
   "metadata": {},
   "outputs": [
    {
     "data": {
      "image/png": "[encoded data removed]",
      "text/plain": [
       "<Figure size 432x288 with 1 Axes>"
      ]
     },
     "metadata": {
      "needs_background": "light"
     },
     "output_type": "display_data"
    }
   ],
   "source": [
    "# Add scores from experiment iterations\n",
    "iteration_data = dai.list_model_iteration_data(experiment.key, 0, len(experiment.iteration_data))\n",
    "iterations = list(map(lambda iteration: iteration.iteration, iteration_data))\n",
    "scores_mean = list(map(lambda iteration: iteration.score_mean, iteration_data))\n",
    "scores_sd = list(map(lambda iteration: iteration.score_sd, iteration_data))\n",
    "\n",
    "# Add score from final ensemble\n",
    "iterations = iterations + [max(iterations) + 1]\n",
    "scores_mean = scores_mean + [experiment.valid_score]\n",
    "scores_sd = scores_sd + [experiment.valid_score_sd]\n",
    "\n",
    "plt.figure()\n",
    "plt.errorbar(iterations, scores_mean, yerr=scores_sd, color = \"black\", \n",
    "             ecolor='blue', fmt = '--o', elinewidth = 4, alpha = 0.5)\n",
    "plt.xlabel(\"Iteration\")\n",
    "plt.ylabel(\"AUC\")\n",
    "plt.ylim([0.75, 0.99])\n",
    "plt.show();"
   ]
  },
  {
   "cell_type": "markdown",
   "metadata": {},
   "source": [
    "#### Equivalent Steps in Driverless: View Results\n",
    "![Equivalent Steps in Driverless: View Results](h2oai_client_images/heart_disease_experimentcomplete.png)"
   ]
  },
  {
   "cell_type": "markdown",
   "metadata": {},
   "source": [
    "### 7. Download Results\n",
    "\n",
    "Once an experiment is complete, we can see that the UI presents us options of downloading the: \n",
    "\n",
    "* predictions \n",
    "    * on the (holdout) train data\n",
    "    * on the test data\n",
    "* experiment summary - summary of the experiment including feature importance\n",
    "\n",
    "We will show an example of downloading the test predictions below.  Note that equivalent commands can also be run for downloading the train (holdout) predictions. "
   ]
  },
  {
   "cell_type": "code",
   "execution_count": 23,
   "metadata": {},
   "outputs": [
    {
     "data": {
      "text/plain": [
       "'./test_preds.csv'"
      ]
     },
     "execution_count": 23,
     "metadata": {},
     "output_type": "execute_result"
    }
   ],
   "source": [
    "dai.download(src_path=experiment.test_predictions_path, dest_dir=\".\")"
   ]
  },
  {
   "cell_type": "code",
   "execution_count": 24,
   "metadata": {},
   "outputs": [
    {
     "data": {
      "text/html": [
       "<div>\n",
       "<style scoped>\n",
       "    .dataframe tbody tr th:only-of-type {\n",
       "        vertical-align: middle;\n",
       "    }\n",
       "\n",
       "    .dataframe tbody tr th {\n",
       "        vertical-align: top;\n",
       "    }\n",
       "\n",
       "    .dataframe thead th {\n",
       "        text-align: right;\n",
       "    }\n",
       "</style>\n",
       "<table border=\"1\" class=\"dataframe\">\n",
       "  <thead>\n",
       "    <tr style=\"text-align: right;\">\n",
       "      <th></th>\n",
       "      <th>target.0</th>\n",
       "      <th>target.1</th>\n",
       "    </tr>\n",
       "  </thead>\n",
       "  <tbody>\n",
       "    <tr>\n",
       "      <th>0</th>\n",
       "      <td>0.562779</td>\n",
       "      <td>0.437221</td>\n",
       "    </tr>\n",
       "    <tr>\n",
       "      <th>1</th>\n",
       "      <td>0.633355</td>\n",
       "      <td>0.366645</td>\n",
       "    </tr>\n",
       "    <tr>\n",
       "      <th>2</th>\n",
       "      <td>0.483704</td>\n",
       "      <td>0.516296</td>\n",
       "    </tr>\n",
       "    <tr>\n",
       "      <th>3</th>\n",
       "      <td>0.498206</td>\n",
       "      <td>0.501794</td>\n",
       "    </tr>\n",
       "    <tr>\n",
       "      <th>4</th>\n",
       "      <td>0.641321</td>\n",
       "      <td>0.358679</td>\n",
       "    </tr>\n",
       "  </tbody>\n",
       "</table>\n",
       "</div>"
      ],
      "text/plain": [
       "   target.0  target.1\n",
       "0  0.562779  0.437221\n",
       "1  0.633355  0.366645\n",
       "2  0.483704  0.516296\n",
       "3  0.498206  0.501794\n",
       "4  0.641321  0.358679"
      ]
     },
     "execution_count": 24,
     "metadata": {},
     "output_type": "execute_result"
    }
   ],
   "source": [
    "test_preds = pd.read_csv(\"./test_preds.csv\")\n",
    "test_preds.head()"
   ]
  },
  {
   "cell_type": "markdown",
   "metadata": {},
   "source": [
    "We can also download and examine the summary of the experiment and feature importance for the final model."
   ]
  },
  {
   "cell_type": "code",
   "execution_count": 25,
   "metadata": {},
   "outputs": [
    {
     "data": {
      "text/plain": [
       "0"
      ]
     },
     "execution_count": 25,
     "metadata": {},
     "output_type": "execute_result"
    }
   ],
   "source": [
    "# Download Summary\n",
    "import subprocess\n",
    "summary_path = dai.download(src_path=experiment.summary_path, dest_dir=\".\")\n",
    "dir_path = \"./h2oai_experiment_summary_\" + experiment.key\n",
    "subprocess.call(['unzip', '-o', summary_path, '-d', dir_path], shell=False)"
   ]
  },
  {
   "cell_type": "markdown",
   "metadata": {},
   "source": [
    "The table below shows the feature name, its relative importance, and a description.  Some features will be engineered by Driverless AI and some can be the original feature."
   ]
  },
  {
   "cell_type": "code",
   "execution_count": 26,
   "metadata": {},
   "outputs": [
    {
     "data": {
      "text/html": [
       "<div>\n",
       "<style scoped>\n",
       "    .dataframe tbody tr th:only-of-type {\n",
       "        vertical-align: middle;\n",
       "    }\n",
       "\n",
       "    .dataframe tbody tr th {\n",
       "        vertical-align: top;\n",
       "    }\n",
       "\n",
       "    .dataframe thead th {\n",
       "        text-align: right;\n",
       "    }\n",
       "</style>\n",
       "<table border=\"1\" class=\"dataframe\">\n",
       "  <thead>\n",
       "    <tr style=\"text-align: right;\">\n",
       "      <th></th>\n",
       "      <th>Relative Importance</th>\n",
       "      <th>Standard Deviation of Relative Importance</th>\n",
       "      <th>Description</th>\n",
       "      <th>Feature</th>\n",
       "    </tr>\n",
       "  </thead>\n",
       "  <tbody>\n",
       "    <tr>\n",
       "      <th>0</th>\n",
       "      <td>1.000000</td>\n",
       "      <td>0.114596</td>\n",
       "      <td>Weight of Evidence for columns ['cp_asymptomat...</td>\n",
       "      <td>46_NumToCatWoEMonotonic:cp_asymptomatic:male:s...</td>\n",
       "    </tr>\n",
       "    <tr>\n",
       "      <th>1</th>\n",
       "      <td>0.949466</td>\n",
       "      <td>0.216673</td>\n",
       "      <td>ca (Orig)</td>\n",
       "      <td>1_ca</td>\n",
       "    </tr>\n",
       "    <tr>\n",
       "      <th>2</th>\n",
       "      <td>0.594306</td>\n",
       "      <td>0.423157</td>\n",
       "      <td>thal_reversableDefect (Orig)</td>\n",
       "      <td>15_thal_reversableDefect</td>\n",
       "    </tr>\n",
       "    <tr>\n",
       "      <th>3</th>\n",
       "      <td>0.530057</td>\n",
       "      <td>0.633253</td>\n",
       "      <td>Weight of Evidence for columns ['cp_asymptomat...</td>\n",
       "      <td>41_NumToCatWoEMonotonic:cp_asymptomatic:thal_r...</td>\n",
       "    </tr>\n",
       "    <tr>\n",
       "      <th>4</th>\n",
       "      <td>0.458311</td>\n",
       "      <td>0.241217</td>\n",
       "      <td>Weight of Evidence for columns ['male', 'slope...</td>\n",
       "      <td>61_WoE:male:slope_flat.0</td>\n",
       "    </tr>\n",
       "    <tr>\n",
       "      <th>5</th>\n",
       "      <td>0.419117</td>\n",
       "      <td>0.323581</td>\n",
       "      <td>cp_asymptomatic (Orig)</td>\n",
       "      <td>3_cp_asymptomatic</td>\n",
       "    </tr>\n",
       "    <tr>\n",
       "      <th>6</th>\n",
       "      <td>0.397513</td>\n",
       "      <td>0.100315</td>\n",
       "      <td>Out-of-fold mean of the response grouped by: [...</td>\n",
       "      <td>19_CVTE:ca.0</td>\n",
       "    </tr>\n",
       "    <tr>\n",
       "      <th>7</th>\n",
       "      <td>0.331183</td>\n",
       "      <td>0.267646</td>\n",
       "      <td>oldpeak (Orig)</td>\n",
       "      <td>9_oldpeak</td>\n",
       "    </tr>\n",
       "    <tr>\n",
       "      <th>8</th>\n",
       "      <td>0.323767</td>\n",
       "      <td>0.309171</td>\n",
       "      <td>Out-of-fold mean of the response grouped by: [...</td>\n",
       "      <td>30_CVTE:slope_flat.0</td>\n",
       "    </tr>\n",
       "    <tr>\n",
       "      <th>9</th>\n",
       "      <td>0.317187</td>\n",
       "      <td>0.096203</td>\n",
       "      <td>thalach (Orig)</td>\n",
       "      <td>16_thalach</td>\n",
       "    </tr>\n",
       "  </tbody>\n",
       "</table>\n",
       "</div>"
      ],
      "text/plain": [
       "   Relative Importance  Standard Deviation of Relative Importance  \\\n",
       "0             1.000000                                   0.114596   \n",
       "1             0.949466                                   0.216673   \n",
       "2             0.594306                                   0.423157   \n",
       "3             0.530057                                   0.633253   \n",
       "4             0.458311                                   0.241217   \n",
       "5             0.419117                                   0.323581   \n",
       "6             0.397513                                   0.100315   \n",
       "7             0.331183                                   0.267646   \n",
       "8             0.323767                                   0.309171   \n",
       "9             0.317187                                   0.096203   \n",
       "\n",
       "                                         Description  \\\n",
       "0  Weight of Evidence for columns ['cp_asymptomat...   \n",
       "1                                          ca (Orig)   \n",
       "2                       thal_reversableDefect (Orig)   \n",
       "3  Weight of Evidence for columns ['cp_asymptomat...   \n",
       "4  Weight of Evidence for columns ['male', 'slope...   \n",
       "5                             cp_asymptomatic (Orig)   \n",
       "6  Out-of-fold mean of the response grouped by: [...   \n",
       "7                                     oldpeak (Orig)   \n",
       "8  Out-of-fold mean of the response grouped by: [...   \n",
       "9                                     thalach (Orig)   \n",
       "\n",
       "                                             Feature  \n",
       "0  46_NumToCatWoEMonotonic:cp_asymptomatic:male:s...  \n",
       "1                                               1_ca  \n",
       "2                           15_thal_reversableDefect  \n",
       "3  41_NumToCatWoEMonotonic:cp_asymptomatic:thal_r...  \n",
       "4                           61_WoE:male:slope_flat.0  \n",
       "5                                  3_cp_asymptomatic  \n",
       "6                                       19_CVTE:ca.0  \n",
       "7                                          9_oldpeak  \n",
       "8                               30_CVTE:slope_flat.0  \n",
       "9                                         16_thalach  "
      ]
     },
     "execution_count": 26,
     "metadata": {},
     "output_type": "execute_result"
    }
   ],
   "source": [
    "# View Features\n",
    "features = pd.read_table(dir_path + \"/ensemble_features.txt\", sep=',', skipinitialspace=True)\n",
    "features.head(n = 10)"
   ]
  },
  {
   "cell_type": "markdown",
   "metadata": {},
   "source": [
    "# Score on New Data\n",
    "\n",
    "You can use the Python API to score on new data. This is equivalent to the **SCORE ON ANOTHER DATASET** button in the Web UI. The example below scores on the test data and then downloads the predictions.\n",
    "\n",
    "Pass in any dataset that has the same columns as the original training set. If you passed a test set during the H2OAI model building step, the predictions already exist. Its path can be found with **`experiment.test_predictions_path`**.\n",
    "\n",
    "### Score Using the DAI Model\n",
    "\n",
    "The following shows the predicted probability of default for each record in the test data set.  "
   ]
  },
  {
   "cell_type": "code",
   "execution_count": 27,
   "metadata": {},
   "outputs": [
    {
     "data": {
      "text/html": [
       "<div>\n",
       "<style scoped>\n",
       "    .dataframe tbody tr th:only-of-type {\n",
       "        vertical-align: middle;\n",
       "    }\n",
       "\n",
       "    .dataframe tbody tr th {\n",
       "        vertical-align: top;\n",
       "    }\n",
       "\n",
       "    .dataframe thead th {\n",
       "        text-align: right;\n",
       "    }\n",
       "</style>\n",
       "<table border=\"1\" class=\"dataframe\">\n",
       "  <thead>\n",
       "    <tr style=\"text-align: right;\">\n",
       "      <th></th>\n",
       "      <th>target.0</th>\n",
       "      <th>target.1</th>\n",
       "    </tr>\n",
       "  </thead>\n",
       "  <tbody>\n",
       "    <tr>\n",
       "      <th>0</th>\n",
       "      <td>0.562779</td>\n",
       "      <td>0.437221</td>\n",
       "    </tr>\n",
       "    <tr>\n",
       "      <th>1</th>\n",
       "      <td>0.633355</td>\n",
       "      <td>0.366645</td>\n",
       "    </tr>\n",
       "    <tr>\n",
       "      <th>2</th>\n",
       "      <td>0.483704</td>\n",
       "      <td>0.516296</td>\n",
       "    </tr>\n",
       "    <tr>\n",
       "      <th>3</th>\n",
       "      <td>0.498206</td>\n",
       "      <td>0.501794</td>\n",
       "    </tr>\n",
       "    <tr>\n",
       "      <th>4</th>\n",
       "      <td>0.641321</td>\n",
       "      <td>0.358679</td>\n",
       "    </tr>\n",
       "  </tbody>\n",
       "</table>\n",
       "</div>"
      ],
      "text/plain": [
       "   target.0  target.1\n",
       "0  0.562779  0.437221\n",
       "1  0.633355  0.366645\n",
       "2  0.483704  0.516296\n",
       "3  0.498206  0.501794\n",
       "4  0.641321  0.358679"
      ]
     },
     "execution_count": 27,
     "metadata": {},
     "output_type": "execute_result"
    }
   ],
   "source": [
    "prediction = dai.make_prediction_sync(experiment.key, test_key, output_margin = False, pred_contribs = False)\n",
    "pred_path = dai.download(prediction.predictions_csv_path, '.')\n",
    "pred_table = pd.read_csv(pred_path)\n",
    "pred_table.head()"
   ]
  },
  {
   "cell_type": "markdown",
   "metadata": {},
   "source": [
    "We can also get the contribution each feature had to the final prediction by setting `pred_contribs = True`.  This will give us an idea of how each feature effects the predictions. "
   ]
  },
  {
   "cell_type": "code",
   "execution_count": 28,
   "metadata": {
    "scrolled": true
   },
   "outputs": [
    {
     "data": {
      "text/html": [
       "<div>\n",
       "<style scoped>\n",
       "    .dataframe tbody tr th:only-of-type {\n",
       "        vertical-align: middle;\n",
       "    }\n",
       "\n",
       "    .dataframe tbody tr th {\n",
       "        vertical-align: top;\n",
       "    }\n",
       "\n",
       "    .dataframe thead th {\n",
       "        text-align: right;\n",
       "    }\n",
       "</style>\n",
       "<table border=\"1\" class=\"dataframe\">\n",
       "  <thead>\n",
       "    <tr style=\"text-align: right;\">\n",
       "      <th></th>\n",
       "      <th>contrib_0_age</th>\n",
       "      <th>contrib_12_slope_flat</th>\n",
       "      <th>contrib_13_slope_upsloping</th>\n",
       "      <th>contrib_15_thal_reversableDefect</th>\n",
       "      <th>contrib_16_thalach</th>\n",
       "      <th>contrib_17_trestbps</th>\n",
       "      <th>contrib_18_CVTE:age.0</th>\n",
       "      <th>contrib_19_CVTE:ca.0</th>\n",
       "      <th>contrib_1_ca</th>\n",
       "      <th>contrib_20_CVTE:chol.0</th>\n",
       "      <th>...</th>\n",
       "      <th>contrib_53_NumToCatWoEMonotonic:thal_reversableDefect.0</th>\n",
       "      <th>contrib_54_CVCatNumEnc:cp_asymptomatic:exang:male:trestbps:age.sd</th>\n",
       "      <th>contrib_54_CVCatNumEnc:cp_asymptomatic:exang:male:trestbps:oldpeak.sd</th>\n",
       "      <th>contrib_54_CVCatNumEnc:cp_asymptomatic:exang:male:trestbps:thalach.sd</th>\n",
       "      <th>contrib_55_NumCatTE:age:ca:chol:cp_asymptomatic:oldpeak:thalach:trestbps.0</th>\n",
       "      <th>contrib_61_WoE:male:slope_flat.0</th>\n",
       "      <th>contrib_62_WoE:age:cp_asymptomatic:exang.0</th>\n",
       "      <th>contrib_6_exang</th>\n",
       "      <th>contrib_9_oldpeak</th>\n",
       "      <th>contrib_bias</th>\n",
       "    </tr>\n",
       "  </thead>\n",
       "  <tbody>\n",
       "    <tr>\n",
       "      <th>0</th>\n",
       "      <td>0.059772</td>\n",
       "      <td>0.003617</td>\n",
       "      <td>0.031683</td>\n",
       "      <td>-0.035059</td>\n",
       "      <td>0.123659</td>\n",
       "      <td>0.030040</td>\n",
       "      <td>-0.008515</td>\n",
       "      <td>-0.128374</td>\n",
       "      <td>-0.192757</td>\n",
       "      <td>-0.004942</td>\n",
       "      <td>...</td>\n",
       "      <td>-0.031740</td>\n",
       "      <td>-0.012583</td>\n",
       "      <td>-0.014139</td>\n",
       "      <td>-0.007986</td>\n",
       "      <td>0.001711</td>\n",
       "      <td>0.089271</td>\n",
       "      <td>-0.004208</td>\n",
       "      <td>0.172728</td>\n",
       "      <td>0.013374</td>\n",
       "      <td>-0.264725</td>\n",
       "    </tr>\n",
       "    <tr>\n",
       "      <th>1</th>\n",
       "      <td>-0.034524</td>\n",
       "      <td>-0.003139</td>\n",
       "      <td>-0.020268</td>\n",
       "      <td>0.062465</td>\n",
       "      <td>-0.071889</td>\n",
       "      <td>0.022171</td>\n",
       "      <td>-0.000723</td>\n",
       "      <td>-0.076798</td>\n",
       "      <td>-0.130289</td>\n",
       "      <td>-0.004522</td>\n",
       "      <td>...</td>\n",
       "      <td>0.065465</td>\n",
       "      <td>-0.022440</td>\n",
       "      <td>0.031938</td>\n",
       "      <td>-0.044975</td>\n",
       "      <td>-0.006245</td>\n",
       "      <td>-0.016259</td>\n",
       "      <td>-0.025153</td>\n",
       "      <td>-0.091827</td>\n",
       "      <td>0.004943</td>\n",
       "      <td>-0.264725</td>\n",
       "    </tr>\n",
       "    <tr>\n",
       "      <th>2</th>\n",
       "      <td>-0.042329</td>\n",
       "      <td>-0.003139</td>\n",
       "      <td>-0.014536</td>\n",
       "      <td>0.095490</td>\n",
       "      <td>-0.054157</td>\n",
       "      <td>-0.002169</td>\n",
       "      <td>-0.000635</td>\n",
       "      <td>-0.125750</td>\n",
       "      <td>-0.214561</td>\n",
       "      <td>-0.002689</td>\n",
       "      <td>...</td>\n",
       "      <td>0.065019</td>\n",
       "      <td>-0.015114</td>\n",
       "      <td>0.006467</td>\n",
       "      <td>0.017746</td>\n",
       "      <td>-0.008727</td>\n",
       "      <td>-0.004679</td>\n",
       "      <td>-0.004053</td>\n",
       "      <td>-0.098143</td>\n",
       "      <td>0.005057</td>\n",
       "      <td>-0.264725</td>\n",
       "    </tr>\n",
       "    <tr>\n",
       "      <th>3</th>\n",
       "      <td>-0.059517</td>\n",
       "      <td>-0.009948</td>\n",
       "      <td>-0.011939</td>\n",
       "      <td>-0.017012</td>\n",
       "      <td>-0.089541</td>\n",
       "      <td>-0.013388</td>\n",
       "      <td>0.013594</td>\n",
       "      <td>0.176514</td>\n",
       "      <td>0.355231</td>\n",
       "      <td>-0.002066</td>\n",
       "      <td>...</td>\n",
       "      <td>-0.010277</td>\n",
       "      <td>-0.011613</td>\n",
       "      <td>0.004013</td>\n",
       "      <td>-0.009045</td>\n",
       "      <td>-0.002268</td>\n",
       "      <td>-0.001622</td>\n",
       "      <td>0.001147</td>\n",
       "      <td>-0.057760</td>\n",
       "      <td>-0.099302</td>\n",
       "      <td>-0.264725</td>\n",
       "    </tr>\n",
       "    <tr>\n",
       "      <th>4</th>\n",
       "      <td>-0.052700</td>\n",
       "      <td>0.002930</td>\n",
       "      <td>0.020609</td>\n",
       "      <td>-0.022650</td>\n",
       "      <td>-0.078971</td>\n",
       "      <td>-0.001974</td>\n",
       "      <td>-0.001734</td>\n",
       "      <td>-0.131987</td>\n",
       "      <td>-0.222730</td>\n",
       "      <td>-0.005201</td>\n",
       "      <td>...</td>\n",
       "      <td>-0.023965</td>\n",
       "      <td>0.035767</td>\n",
       "      <td>0.027956</td>\n",
       "      <td>0.001168</td>\n",
       "      <td>0.004363</td>\n",
       "      <td>0.095481</td>\n",
       "      <td>-0.005693</td>\n",
       "      <td>-0.075029</td>\n",
       "      <td>-0.076591</td>\n",
       "      <td>-0.264725</td>\n",
       "    </tr>\n",
       "  </tbody>\n",
       "</table>\n",
       "<p>5 rows × 42 columns</p>\n",
       "</div>"
      ],
      "text/plain": [
       "   contrib_0_age  contrib_12_slope_flat  contrib_13_slope_upsloping  \\\n",
       "0       0.059772               0.003617                    0.031683   \n",
       "1      -0.034524              -0.003139                   -0.020268   \n",
       "2      -0.042329              -0.003139                   -0.014536   \n",
       "3      -0.059517              -0.009948                   -0.011939   \n",
       "4      -0.052700               0.002930                    0.020609   \n",
       "\n",
       "   contrib_15_thal_reversableDefect  contrib_16_thalach  contrib_17_trestbps  \\\n",
       "0                         -0.035059            0.123659             0.030040   \n",
       "1                          0.062465           -0.071889             0.022171   \n",
       "2                          0.095490           -0.054157            -0.002169   \n",
       "3                         -0.017012           -0.089541            -0.013388   \n",
       "4                         -0.022650           -0.078971            -0.001974   \n",
       "\n",
       "   contrib_18_CVTE:age.0  contrib_19_CVTE:ca.0  contrib_1_ca  \\\n",
       "0              -0.008515             -0.128374     -0.192757   \n",
       "1              -0.000723             -0.076798     -0.130289   \n",
       "2              -0.000635             -0.125750     -0.214561   \n",
       "3               0.013594              0.176514      0.355231   \n",
       "4              -0.001734             -0.131987     -0.222730   \n",
       "\n",
       "   contrib_20_CVTE:chol.0  ...  \\\n",
       "0               -0.004942  ...   \n",
       "1               -0.004522  ...   \n",
       "2               -0.002689  ...   \n",
       "3               -0.002066  ...   \n",
       "4               -0.005201  ...   \n",
       "\n",
       "   contrib_53_NumToCatWoEMonotonic:thal_reversableDefect.0  \\\n",
       "0                                          -0.031740         \n",
       "1                                           0.065465         \n",
       "2                                           0.065019         \n",
       "3                                          -0.010277         \n",
       "4                                          -0.023965         \n",
       "\n",
       "   contrib_54_CVCatNumEnc:cp_asymptomatic:exang:male:trestbps:age.sd  \\\n",
       "0                                          -0.012583                   \n",
       "1                                          -0.022440                   \n",
       "2                                          -0.015114                   \n",
       "3                                          -0.011613                   \n",
       "4                                           0.035767                   \n",
       "\n",
       "   contrib_54_CVCatNumEnc:cp_asymptomatic:exang:male:trestbps:oldpeak.sd  \\\n",
       "0                                          -0.014139                       \n",
       "1                                           0.031938                       \n",
       "2                                           0.006467                       \n",
       "3                                           0.004013                       \n",
       "4                                           0.027956                       \n",
       "\n",
       "   contrib_54_CVCatNumEnc:cp_asymptomatic:exang:male:trestbps:thalach.sd  \\\n",
       "0                                          -0.007986                       \n",
       "1                                          -0.044975                       \n",
       "2                                           0.017746                       \n",
       "3                                          -0.009045                       \n",
       "4                                           0.001168                       \n",
       "\n",
       "   contrib_55_NumCatTE:age:ca:chol:cp_asymptomatic:oldpeak:thalach:trestbps.0  \\\n",
       "0                                           0.001711                            \n",
       "1                                          -0.006245                            \n",
       "2                                          -0.008727                            \n",
       "3                                          -0.002268                            \n",
       "4                                           0.004363                            \n",
       "\n",
       "   contrib_61_WoE:male:slope_flat.0  \\\n",
       "0                          0.089271   \n",
       "1                         -0.016259   \n",
       "2                         -0.004679   \n",
       "3                         -0.001622   \n",
       "4                          0.095481   \n",
       "\n",
       "   contrib_62_WoE:age:cp_asymptomatic:exang.0  contrib_6_exang  \\\n",
       "0                                   -0.004208         0.172728   \n",
       "1                                   -0.025153        -0.091827   \n",
       "2                                   -0.004053        -0.098143   \n",
       "3                                    0.001147        -0.057760   \n",
       "4                                   -0.005693        -0.075029   \n",
       "\n",
       "   contrib_9_oldpeak  contrib_bias  \n",
       "0           0.013374     -0.264725  \n",
       "1           0.004943     -0.264725  \n",
       "2           0.005057     -0.264725  \n",
       "3          -0.099302     -0.264725  \n",
       "4          -0.076591     -0.264725  \n",
       "\n",
       "[5 rows x 42 columns]"
      ]
     },
     "execution_count": 28,
     "metadata": {},
     "output_type": "execute_result"
    }
   ],
   "source": [
    "prediction_contributions = dai.make_prediction_sync(experiment.key, test_key, \n",
    "                                                      output_margin = False, pred_contribs = True)\n",
    "pred_contributions_path = dai.download(prediction_contributions.predictions_csv_path, '.')\n",
    "pred_contributions_table = pd.read_csv(pred_contributions_path)\n",
    "pred_contributions_table.head()"
   ]
  },
  {
   "cell_type": "markdown",
   "metadata": {
    "collapsed": true
   },
   "source": [
    "# Run Model Interpretation\n",
    "\n",
    "Once we have completed an experiment, we can interpret our H2OAI model.  Model Interpretability is used to provide model transparency and explanations.  More information on Model Interpretability can be found here: http://docs.h2o.ai/driverless-ai/latest-stable/docs/userguide/interpreting.html.\n",
    "\n",
    "\n",
    "### Run Model Interpretation on the Raw Data\n",
    "\n",
    "We can run the model interpretation in the Python client as shown below.  By setting the parameter, `use_raw_features` to True, we are interpreting the model using only the raw features in the data.  This will not use the engineered features we saw in our final model's features to explain the data.  "
   ]
  },
  {
   "cell_type": "code",
   "execution_count": 29,
   "metadata": {},
   "outputs": [],
   "source": [
    "mli_experiment = dai.run_interpretation_sync(dai_model_key = experiment.key,\n",
    "                                               dataset_key = train_key,\n",
    "                                               target_col = 'target',\n",
    "                                               use_raw_features = True)"
   ]
  },
  {
   "cell_type": "markdown",
   "metadata": {},
   "source": [
    "This is equivalent to clicking **Interpet this Model** in the UI once the experiment has completed.\n",
    "\n",
    "![Equivalent Steps in Driverless: View Results](h2oai_client_images/heart_disease_MLI.png)"
   ]
  },
  {
   "cell_type": "markdown",
   "metadata": {},
   "source": [
    "Once our interpretation is finished, we can navigate to the MLI tab in the UI to see our interpreted model. \n",
    "\n",
    "![Equivalent Steps in Driverless: MLI List](h2oai_client_images/heart_disease_MLIlist.png)\n",
    "\n",
    "We can also see the list of interpretations using the Python Client:"
   ]
  },
  {
   "cell_type": "code",
   "execution_count": 30,
   "metadata": {
    "scrolled": true
   },
   "outputs": [
    {
     "data": {
      "text/plain": [
       "['aa5d1fa4-7f5a-11ea-851a-0242ac110002']"
      ]
     },
     "execution_count": 30,
     "metadata": {},
     "output_type": "execute_result"
    }
   ],
   "source": [
    "# Get list of interpretations\n",
    "mli_list = list(map(lambda x: x.key, dai.list_interpretations(offset=0, limit=100)))\n",
    "mli_list"
   ]
  },
  {
   "cell_type": "markdown",
   "metadata": {},
   "source": [
    "# Use shap package to view Shapley values\n",
    "\n",
    "##### Note that approach to obtaining Shapley values for original features (and not transformed features) requires downloading Shapley value to file and then reading in data file."
   ]
  },
  {
   "cell_type": "code",
   "execution_count": 31,
   "metadata": {},
   "outputs": [],
   "source": [
    "# For shap library\n",
    "#https://github.com/slundberg/shap\n",
    "\n",
    "import shap"
   ]
  },
  {
   "cell_type": "code",
   "execution_count": 32,
   "metadata": {},
   "outputs": [],
   "source": [
    "# Shapley values for transformed features\n",
    "contributions_matrix = pred_contributions_table.values\n",
    "shap_transformed = contributions_matrix[:,:-1]"
   ]
  },
  {
   "cell_type": "code",
   "execution_count": 33,
   "metadata": {},
   "outputs": [],
   "source": [
    "# Shapley values for original features\n",
    "mli_key = mli_list[0]\n",
    "mli = dai.get_interpretation_job(mli_key).entity\n",
    "original_shap_path = os.path.join(mli.tmp_dir, \"shapley.orig.feat.csv\")\n",
    "original_shap_path = re.sub('^./tmp/', '', original_shap_path)\n",
    "dai.download(original_shap_path, '.')\n",
    "shap_original = pd.read_csv(\"shapley.orig.feat.csv\")\n",
    "shap_original = shap_original.drop(['bias'],axis=1)"
   ]
  },
  {
   "cell_type": "code",
   "execution_count": 34,
   "metadata": {},
   "outputs": [],
   "source": [
    "# predictor variables only\n",
    "train_x = train.drop(['target'],axis=1)\n",
    "# sort columns in train_x to match column order of shap_original\n",
    "train_x = train_x[shap_original.columns.tolist()]\n",
    "# convert shap_original to np array\n",
    "shap_original = shap_original.values"
   ]
  },
  {
   "cell_type": "markdown",
   "metadata": {},
   "source": [
    "### summarize the effects of all the features"
   ]
  },
  {
   "cell_type": "code",
   "execution_count": 35,
   "metadata": {},
   "outputs": [
    {
     "data": {
      "image/png": "[encoded data removed]",
      "text/plain": [
       "<Figure size 576x626.4 with 2 Axes>"
      ]
     },
     "metadata": {
      "needs_background": "light"
     },
     "output_type": "display_data"
    }
   ],
   "source": [
    "shap.summary_plot(shap_original, train_x)"
   ]
  },
  {
   "cell_type": "markdown",
   "metadata": {},
   "source": [
    "### create a dependence plot to show the effect of a single feature across the whole dataset"
   ]
  },
  {
   "cell_type": "code",
   "execution_count": 36,
   "metadata": {},
   "outputs": [
    {
     "data": {
      "image/png": "[encoded data removed]",
      "text/plain": [
       "<Figure size 540x360 with 2 Axes>"
      ]
     },
     "metadata": {
      "needs_background": "light"
     },
     "output_type": "display_data"
    }
   ],
   "source": [
    "shap.dependence_plot(\"age\", shap_original, train_x)"
   ]
  },
  {
   "cell_type": "markdown",
   "metadata": {},
   "source": [
    "### bar plot of the mean absolute value of the SHAP values"
   ]
  },
  {
   "cell_type": "code",
   "execution_count": 37,
   "metadata": {},
   "outputs": [
    {
     "data": {
      "image/png": "[encoded data removed]",
      "text/plain": [
       "<Figure size 576x626.4 with 1 Axes>"
      ]
     },
     "metadata": {
      "needs_background": "light"
     },
     "output_type": "display_data"
    }
   ],
   "source": [
    "shap.summary_plot(shap_original, train_x, plot_type=\"bar\")"
   ]
  },
  {
   "cell_type": "markdown",
   "metadata": {},
   "source": [
    "# Build Scoring Pipelines\n",
    "\n",
    "In our last section, we will build the scoring pipelines from our experiment.  There are two scoring pipeline options: \n",
    "\n",
    "* Python Scoring Pipeline: requires Python runtime\n",
    "* MOJO Scoring Pipeline: requires Java runtime\n",
    "\n",
    "Documentation on the scoring pipelines is provided here: http://docs.h2o.ai/driverless-ai/latest-stable/docs/userguide/python-mojo-pipelines.html.\n",
    "\n",
    "![Equivalent Steps in Driverless: View Results](h2oai_client_images/heart_disease_experimentcomplete.png)\n",
    "\n",
    "The experiment screen shows two scoring pipeline buttons: **Download Python Scoring Pipeline** or **Build MOJO Scoring Pipeline**.  Driverless AI determines if any scoring pipeline should be automatically built based on the config.toml file.  In this example, we have run Driverless AI with the settings: \n",
    "\n",
    "```\n",
    "# Whether to create the Python scoring pipeline at the end of each experiment\n",
    "make_python_scoring_pipeline = true\n",
    "\n",
    "# Whether to create the MOJO scoring pipeline at the end of each experiment\n",
    "# Note: Not all transformers or main models are available for MOJO (e.g. no gblinear main model)\n",
    "make_mojo_scoring_pipeline = false\n",
    "```\n",
    "\n",
    "Therefore, only the Python Scoring Pipeline will be built by default.\n",
    "\n",
    "### 1. Build Python Scoring Pipeline\n",
    "\n",
    "The Python Scoring Pipeline has been built by default based on our config.toml settings.  We can get the path to the Python Scoring Pipeline in our experiment object."
   ]
  },
  {
   "cell_type": "code",
   "execution_count": 38,
   "metadata": {},
   "outputs": [
    {
     "data": {
      "text/plain": [
       "'h2oai_experiment_358d2bf2-7f59-11ea-851a-0242ac110002/scoring_pipeline/scorer.zip'"
      ]
     },
     "execution_count": 38,
     "metadata": {},
     "output_type": "execute_result"
    }
   ],
   "source": [
    "experiment.scoring_pipeline_path"
   ]
  },
  {
   "cell_type": "markdown",
   "metadata": {},
   "source": [
    "We can also build the Python Scoring Pipeline - this is useful if the **`make_python_scoring_pipeline`** option was set to false."
   ]
  },
  {
   "cell_type": "code",
   "execution_count": 39,
   "metadata": {},
   "outputs": [],
   "source": [
    "python_scoring_pipeline = dai.build_scoring_pipeline_sync(experiment.key)"
   ]
  },
  {
   "cell_type": "code",
   "execution_count": 40,
   "metadata": {},
   "outputs": [
    {
     "data": {
      "text/plain": [
       "'h2oai_experiment_358d2bf2-7f59-11ea-851a-0242ac110002/scoring_pipeline/scorer.zip'"
      ]
     },
     "execution_count": 40,
     "metadata": {},
     "output_type": "execute_result"
    }
   ],
   "source": [
    "python_scoring_pipeline.file_path"
   ]
  },
  {
   "cell_type": "markdown",
   "metadata": {},
   "source": [
    "Now we will download the scoring pipeline zip file."
   ]
  },
  {
   "cell_type": "code",
   "execution_count": 41,
   "metadata": {},
   "outputs": [
    {
     "data": {
      "text/plain": [
       "'./scorer.zip'"
      ]
     },
     "execution_count": 41,
     "metadata": {},
     "output_type": "execute_result"
    }
   ],
   "source": [
    "dai.download(python_scoring_pipeline.file_path, dest_dir=\".\")"
   ]
  },
  {
   "cell_type": "markdown",
   "metadata": {},
   "source": [
    "### 2. Build MOJO Scoring Pipeline\n",
    "\n",
    "The MOJO Scoring Pipeline has not been built by default because of our config.toml settings.  We can build the MOJO Scoring Pipeline using the Python client.  This is equivalent to selecting the **Build MOJO Scoring Pipeline** on the experiment screen."
   ]
  },
  {
   "cell_type": "code",
   "execution_count": 42,
   "metadata": {},
   "outputs": [],
   "source": [
    "mojo_scoring_pipeline = dai.build_mojo_pipeline_sync(experiment.key)"
   ]
  },
  {
   "cell_type": "code",
   "execution_count": 43,
   "metadata": {},
   "outputs": [
    {
     "data": {
      "text/plain": [
       "'h2oai_experiment_358d2bf2-7f59-11ea-851a-0242ac110002/mojo_pipeline/mojo.zip'"
      ]
     },
     "execution_count": 43,
     "metadata": {},
     "output_type": "execute_result"
    }
   ],
   "source": [
    "mojo_scoring_pipeline.file_path"
   ]
  },
  {
   "cell_type": "markdown",
   "metadata": {},
   "source": [
    "Now we can download the scoring pipeline zip file."
   ]
  },
  {
   "cell_type": "code",
   "execution_count": 44,
   "metadata": {},
   "outputs": [
    {
     "data": {
      "text/plain": [
       "'./mojo.zip'"
      ]
     },
     "execution_count": 44,
     "metadata": {},
     "output_type": "execute_result"
    }
   ],
   "source": [
    "dai.download(mojo_scoring_pipeline.file_path, dest_dir=\".\")"
   ]
  },
  {
   "cell_type": "markdown",
   "metadata": {
    "collapsed": true
   },
   "source": [
    "Once the MOJO Scoring Pipeline is built, the **Build MOJO Scoring Pipeline** changes to **Download MOJO Scoring Pipeline**.\n",
    "\n",
    "\n",
    "\n",
    "![Equivalent Steps in Driverless: Download MOJO](h2oai_client_images/download_mojo.png)"
   ]
  },
  {
   "cell_type": "code",
   "execution_count": null,
   "metadata": {},
   "outputs": [],
   "source": []
  }
 ],
 "metadata": {
  "hide_input": false,
  "kernelspec": {
   "display_name": "Python 3",
   "language": "python",
   "name": "python3"
  },
  "language_info": {
   "codemirror_mode": {
    "name": "ipython",
    "version": 3
   },
   "file_extension": ".py",
   "mimetype": "text/x-python",
   "name": "python",
   "nbconvert_exporter": "python",
   "pygments_lexer": "ipython3",
   "version": "3.7.4"
  },
  "latex_envs": {
   "LaTeX_envs_menu_present": true,
   "autoclose": false,
   "autocomplete": true,
   "bibliofile": "biblio.bib",
   "cite_by": "apalike",
   "current_citInitial": 1,
   "eqLabelWithNumbers": true,
   "eqNumInitial": 1,
   "hotkeys": {
    "equation": "Ctrl-E",
    "itemize": "Ctrl-I"
   },
   "labels_anchors": false,
   "latex_user_defs": false,
   "report_style_numbering": false,
   "user_envs_cfg": false
  },
  "nbTranslate": {
   "displayLangs": [
    "*"
   ],
   "hotkey": "alt-t",
   "langInMainMenu": true,
   "sourceLang": "en",
   "targetLang": "fr",
   "useGoogleTranslate": true
  },
  "toc": {
   "base_numbering": 1,
   "nav_menu": {},
   "number_sections": true,
   "sideBar": true,
   "skip_h1_title": false,
   "title_cell": "Table of Contents",
   "title_sidebar": "Contents",
   "toc_cell": false,
   "toc_position": {},
   "toc_section_display": true,
   "toc_window_display": false
  },
  "varInspector": {
   "cols": {
    "lenName": 16,
    "lenType": 16,
    "lenVar": 40
   },
   "kernels_config": {
    "python": {
     "delete_cmd_postfix": "",
     "delete_cmd_prefix": "del ",
     "library": "var_list.py",
     "varRefreshCmd": "print(var_dic_list())"
    },
    "r": {
     "delete_cmd_postfix": ") ",
     "delete_cmd_prefix": "rm(",
     "library": "var_list.r",
     "varRefreshCmd": "cat(var_dic_list()) "
    }
   },
   "types_to_exclude": [
    "module",
    "function",
    "builtin_function_or_method",
    "instance",
    "_Feature"
   ],
   "window_display": false
  }
 },
 "nbformat": 4,
 "nbformat_minor": 2
}
